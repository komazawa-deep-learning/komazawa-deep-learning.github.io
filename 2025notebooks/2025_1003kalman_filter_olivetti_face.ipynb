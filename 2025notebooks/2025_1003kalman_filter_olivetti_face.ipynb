{
  "nbformat": 4,
  "nbformat_minor": 0,
  "metadata": {
    "colab": {
      "private_outputs": true,
      "provenance": [],
      "authorship_tag": "ABX9TyNfjDn0rH724tbCvdU39f4p",
      "include_colab_link": true
    },
    "kernelspec": {
      "name": "python3",
      "display_name": "Python 3"
    },
    "language_info": {
      "name": "python"
    }
  },
  "cells": [
    {
      "cell_type": "markdown",
      "metadata": {
        "id": "view-in-github",
        "colab_type": "text"
      },
      "source": [
        "<a href=\"https://colab.research.google.com/github/komazawa-deep-learning/komazawa-deep-learning.github.io/blob/master/2025notebooks/2025_1003kalman_filter_olivetti_face.ipynb\" target=\"_parent\"><img src=\"https://colab.research.google.com/assets/colab-badge.svg\" alt=\"Open In Colab\"/></a>"
      ]
    },
    {
      "cell_type": "code",
      "execution_count": null,
      "metadata": {
        "id": "vFmDQXqezqgn"
      },
      "outputs": [],
      "source": [
        "%config InlineBackend.figure_format = 'retina'\n",
        "import IPython\n",
        "isColab = 'google.colab' in str(IPython.get_ipython())\n",
        "\n",
        "import matplotlib.pyplot as plt\n",
        "try:\n",
        "    import japanize_matplotlib\n",
        "except ImportError:\n",
        "    !pip install japanize_matplotlib\n",
        "    import japanize_matplotlib\n",
        "\n",
        "import numpy as np\n",
        "# numpy の表示桁設定\n",
        "np.set_printoptions(precision=5, suppress=False)\n",
        "\n",
        "# オリベッティ顔データセットの読み込み\n",
        "from sklearn.datasets import fetch_olivetti_faces\n",
        "data = fetch_olivetti_faces()\n",
        "X, y = data.data, data.target\n",
        "print(f'訓練データサイズ X.shape:{X.shape}')\n",
        "print(f'教師データサイズ y.shape:{y.shape}')\n",
        "print(data.DESCR)"
      ]
    },
    {
      "cell_type": "code",
      "source": [
        "# データの表示\n",
        "nrows = 40   # nrows 人分のデータを表示\n",
        "ncols = 10\n",
        "fig, fig_axes = plt.subplots(ncols=ncols, nrows=nrows, figsize=(ncols * 1.4, nrows * 1.4), constrained_layout=True)\n",
        "# constrained_layout は subplot や 凡例やカラーバーなどの装飾を自動的に調整して，\n",
        "# ユーザが要求する論理的なレイアウトをできるだけ維持しながら， 図ウィンドウに収まるようにします。\n",
        "\n",
        "for i in range(nrows):\n",
        "    for j in range(ncols):\n",
        "        x = i * 10 + j\n",
        "        fig_axes[i][j].imshow(X[x].reshape(64,64), cmap='gray')\n",
        "        fig_axes[i][j].axis('off')\n",
        "        fig_axes[i][j].set_title(f'num:{x}, ID:{y[x]}')\n",
        "\n",
        "plt.show()"
      ],
      "metadata": {
        "id": "exwI-tkVz5uO"
      },
      "execution_count": null,
      "outputs": []
    },
    {
      "cell_type": "markdown",
      "source": [
        "\n",
        "データであるオリベッティ顔画像データセットは 400 枚の画像はそれぞれ縦横 64 画素である。これを 1 次元にすれば 1 枚の画像は 4096 次元のベクトルである。\n",
        "したがって，系列予測課題とみなすこともできる。\n"
      ],
      "metadata": {
        "id": "Ws5MYbIL0IxD"
      }
    },
    {
      "cell_type": "code",
      "source": [
        "# 表示させたい画像番号を指定するリスト\n",
        "image_nums = [0, 10, 20, 30]\n",
        "\n",
        "figs, axes = plt.subplots(len(image_nums), 2, figsize=(12, 1.5 * len(image_nums)), tight_layout=False)\n",
        "for i, image_num in enumerate(image_nums):\n",
        "    x = X[image_num]\n",
        "\n",
        "    #figs, axes = plt.subplots(1,2, figsize=(12,3), tight_layout=False)\n",
        "    #figs.suptitle(f'データ番号:{N}')\n",
        "\n",
        "    axes[i][0].plot(x)\n",
        "    axes[i][0].set_ylim(0,1)\n",
        "\n",
        "    axes[i][1].imshow(x.reshape(64,64), cmap='gray')\n",
        "    axes[i][1].set_xticks([])\n",
        "    axes[i][1].set_yticks([])\n",
        "\n",
        "plt.show()"
      ],
      "metadata": {
        "id": "Mji8JYG6z8w9"
      },
      "execution_count": null,
      "outputs": []
    },
    {
      "cell_type": "code",
      "source": [
        "try:\n",
        "    import filterpy\n",
        "except ImportError:\n",
        "    !pip install filterpy\n",
        "    import filterpy\n",
        "\n",
        "from filterpy.kalman import KalmanFilter\n",
        "from filterpy.common import Q_discrete_white_noise\n"
      ],
      "metadata": {
        "id": "rLu92weG0Wpi"
      },
      "execution_count": null,
      "outputs": []
    },
    {
      "cell_type": "code",
      "source": [
        "N=70\n",
        "N=90\n",
        "x = X[N]\n",
        "\n",
        "kf = KalmanFilter(dim_x=1,dim_z=1)\n",
        "\n",
        "kf.x = np.array(x.mean())\n",
        "kf.F = np.array(x.var())\n",
        "kf.H = np.array(x.var())\n",
        "\n",
        "# kf.x = np.array(0)\n",
        "# kf.F = np.array(1.)\n",
        "# kf.H = np.array(1.)\n",
        "\n",
        "zs = x\n",
        "xs, Cov = [], []\n",
        "for z in zs:\n",
        "    kf.predict()\n",
        "    kf.update(z)\n",
        "    xs.append(kf.x)\n",
        "    Cov.append(kf.P)"
      ],
      "metadata": {
        "id": "SQIwhbhL0hNl"
      },
      "execution_count": null,
      "outputs": []
    },
    {
      "cell_type": "code",
      "source": [
        "fig, axes = plt.subplots(1,2, figsize=(5,2))\n",
        "axes[0].imshow(np.array(xs).reshape(64,64), cmap='gray')\n",
        "axes[0].set_title('after filtering')\n",
        "axes[1].imshow(x.reshape(64,64), cmap='gray')\n",
        "axes[1].set_title('Original')\n"
      ],
      "metadata": {
        "id": "tR4f1JiJ0kJL"
      },
      "execution_count": null,
      "outputs": []
    },
    {
      "cell_type": "code",
      "source": [],
      "metadata": {
        "id": "QN6cMKvJ0mcC"
      },
      "execution_count": null,
      "outputs": []
    }
  ]
}