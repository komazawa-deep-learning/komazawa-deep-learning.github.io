{
  "nbformat": 4,
  "nbformat_minor": 0,
  "metadata": {
    "colab": {
      "private_outputs": true,
      "provenance": [],
      "authorship_tag": "ABX9TyOdH2ohpPtHPdmqYnnbG+tf",
      "include_colab_link": true
    },
    "kernelspec": {
      "name": "python3",
      "display_name": "Python 3"
    },
    "language_info": {
      "name": "python"
    }
  },
  "cells": [
    {
      "cell_type": "markdown",
      "metadata": {
        "id": "view-in-github",
        "colab_type": "text"
      },
      "source": [
        "<a href=\"https://colab.research.google.com/github/komazawa-deep-learning/komazawa-deep-learning.github.io/blob/master/2025notebooks/2025_0411first_step_for_submitting_works.ipynb\" target=\"_parent\"><img src=\"https://colab.research.google.com/assets/colab-badge.svg\" alt=\"Open In Colab\"/></a>"
      ]
    },
    {
      "cell_type": "markdown",
      "source": [
        "<font size=\"120pt\">1. 自分の Google Drive にコピーする</font>\n",
        "\n",
        "<img src=\"https://komazawa-deep-learning.github.io/2025assets/2025_0327colab_save_google_drive.png\" width=\"39%\">\n",
        "\n",
        "<font size=\"60pt;\">2. ファイル名を変更する</font><br/>\n",
        "\n",
        "\"自分の学生番号(NB数字 4 桁)_月日(数字 4 桁)\" 例: `NB4999_0411.ipynb`\n",
        "\n",
        "<img src=\"https://komazawa-deep-learning.github.io/2025assets/2025_0327colab_rename_file.png\" width=\"39%;\">\n",
        "\n",
        "\n",
        "<font size=\"60pt;\">3. ファイルをダウンロードする</font><br/>\n",
        "\n",
        "<img src=\"https://komazawa-deep-learning.github.io/2025assets/2025_0327colab_download_ipynb_file.png\" width=\"78%;\">"
      ],
      "metadata": {
        "id": "R5kY969HJvqs"
      }
    },
    {
      "cell_type": "code",
      "source": [],
      "metadata": {
        "id": "HRjqZWmNUWmt"
      },
      "execution_count": null,
      "outputs": []
    }
  ]
}