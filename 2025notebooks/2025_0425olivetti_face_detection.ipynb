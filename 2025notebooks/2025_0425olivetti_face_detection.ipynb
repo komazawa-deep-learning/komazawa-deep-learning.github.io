{
  "cells": [
    {
      "cell_type": "markdown",
      "metadata": {
        "id": "view-in-github",
        "colab_type": "text"
      },
      "source": [
        "<a href=\"https://colab.research.google.com/github/komazawa-deep-learning/komazawa-deep-learning.github.io/blob/master/2025notebooks/2025_0425olivetti_face_detection.ipynb\" target=\"_parent\"><img src=\"https://colab.research.google.com/assets/colab-badge.svg\" alt=\"Open In Colab\"/></a>"
      ]
    },
    {
      "cell_type": "markdown",
      "source": [
        "# オリベッティ顔データセットを用いた機械学習実習\n",
        "\n",
        "* filename: `2025_0425olivetti_face_detection.ipynb`\n",
        "* author: 浅川 伸一 asakawa@ieee.org\n",
        "* date: 2025_0425\n",
        "\n",
        "\n"
      ],
      "metadata": {
        "id": "5-amTpixBS_o"
      },
      "id": "5-amTpixBS_o"
    },
    {
      "cell_type": "code",
      "execution_count": null,
      "id": "0956f10b-f104-44e8-bf7d-8f516b27b3c8",
      "metadata": {
        "id": "0956f10b-f104-44e8-bf7d-8f516b27b3c8"
      },
      "outputs": [],
      "source": [
        "%config InlineBackend.figure_format = 'retina'\n",
        "import IPython\n",
        "isColab = 'google.colab' in str(IPython.get_ipython())\n",
        "\n",
        "import matplotlib.pyplot as plt\n",
        "try:\n",
        "    import japanize_matplotlib\n",
        "except ImportError:\n",
        "    !pip install japanize_matplotlib\n",
        "    import japanize_matplotlib\n",
        "\n",
        "import numpy as np\n",
        "\n",
        "# オリベッティ顔データセットの読み込み\n",
        "from sklearn.datasets import fetch_olivetti_faces\n",
        "data = fetch_olivetti_faces()\n",
        "X, y = data.data, data.target\n",
        "print(f'訓練データサイズ X.shape:{X.shape}')\n",
        "print(f'教師データサイズ y.shape:{y.shape}')\n",
        "print(data.DESCR)\n",
        "\n",
        "# numpy の表示桁設定\n",
        "np.set_printoptions(precision=5, suppress=False)"
      ]
    },
    {
      "cell_type": "code",
      "execution_count": null,
      "id": "9a06cd9f-036f-4b7c-8c90-80444efe935b",
      "metadata": {
        "id": "9a06cd9f-036f-4b7c-8c90-80444efe935b"
      },
      "outputs": [],
      "source": [
        "# データの表示\n",
        "nrows = 40   # nrows 人分のデータを表示\n",
        "ncols = 10\n",
        "fig, fig_axes = plt.subplots(ncols=ncols, nrows=nrows, figsize=(ncols * 1.4, nrows * 1.4), constrained_layout=True)\n",
        "# constrained_layout は subplot や 凡例やカラーバーなどの装飾を自動的に調整して，\n",
        "# ユーザが要求する論理的なレイアウトをできるだけ維持しながら， 図ウィンドウに収まるようにします。\n",
        "\n",
        "for i in range(nrows):\n",
        "    for j in range(ncols):\n",
        "        x = i * 10 + j\n",
        "        fig_axes[i][j].imshow(X[x].reshape(64,64), cmap='gray')\n",
        "        fig_axes[i][j].axis('off')\n",
        "        fig_axes[i][j].set_title(f'num:{x}, ID:{y[x]}')\n",
        "\n",
        "plt.show()"
      ]
    },
    {
      "cell_type": "code",
      "source": [
        "# 男女の判別のため教師データを作成\n",
        "# 男であれば 0, 女であれば 1 とする\n",
        "y_sex = np.zeros_like(y)\n",
        "for woman_start in [70, 310, 340]:\n",
        "    for i in range(10):\n",
        "        y_sex[woman_start+i]=1\n",
        "\n",
        "for i in range(0, len(X),10):\n",
        "    print(f'{i:3d}', end=\":\")\n",
        "    for j in range(10):\n",
        "        print(y_sex[i+j], end=\" \")\n",
        "    print(\"\")\n",
        "\n",
        "    #print(y_sex[65:85])"
      ],
      "metadata": {
        "id": "1bNppGAoBhAp"
      },
      "id": "1bNppGAoBhAp",
      "execution_count": null,
      "outputs": []
    },
    {
      "cell_type": "markdown",
      "id": "4a10a932-ea1a-416a-89d3-30dece958de8",
      "metadata": {
        "id": "4a10a932-ea1a-416a-89d3-30dece958de8"
      },
      "source": [
        "# 機械学習手法による顔認識\n",
        "\n",
        "## データの分割，訓練データとテストデータ\n",
        "\n",
        "データを 2 分割して，訓練データセットとテストデータセットに分割します。\n",
        "分割した訓練データセットでモデルのパラメータを学習し，しかる後に，テストデータセットで，その汎化性能を評価します。\n",
        "このとき，テストデータセットでの性能が高いモデルが良いモデルということになります。\n",
        "\n",
        "オリベッティ顔データセットには， 各被験者の 10 枚の顔画像が含まれています。\n",
        "このうち，例えば 90% を訓練データとし，10% をテストデータとして使用することを考えます。\n",
        "各顔データの訓練画像とテスト画像の数が同じになるように stratify 機能を使用してます。\n",
        "したがって，各被験者には 9 枚の訓練用画像と 1 枚のテスト用画像が用意されることになります。\n",
        "訓練データとテストデータの割合は split_ratio 変更することができます。\n"
      ]
    },
    {
      "cell_type": "code",
      "source": [
        "from sklearn.model_selection import train_test_split\n",
        "from sklearn.linear_model import LogisticRegression\n",
        "from sklearn import metrics\n",
        "\n",
        "#from sklearn.decomposition import PCA\n",
        "from sklearn.svm import SVC\n",
        "from sklearn.discriminant_analysis import LinearDiscriminantAnalysis\n",
        "\n",
        "#split_ratio = 0.3 としているので，訓練データ対テストデータが 7:3 となる\n",
        "split_ratio = 0.3\n",
        "X_train, X_test, y_train, y_test=train_test_split(X, y_sex, test_size=split_ratio, stratify=y, random_state=42)\n",
        "#X_train, X_test, y_train, y_test=train_test_split(X, y, test_size=split_ratio, stratify=y, random_state=42)\n",
        "print(f'X_train 訓練画像のサイズ: {X_train.shape}')\n",
        "print(f'y_train 教師信号データのサイズ: {y_train.shape}')\n",
        "\n",
        "print(f'X_test 検証画像のサイズ: {X_test.shape}')\n",
        "print(f'y_test 教師信号データのサイズ: {y_test.shape}')"
      ],
      "metadata": {
        "id": "QM9GNboxBo3i"
      },
      "id": "QM9GNboxBo3i",
      "execution_count": null,
      "outputs": []
    },
    {
      "cell_type": "markdown",
      "source": [
        "## ロジスティック回帰"
      ],
      "metadata": {
        "id": "keMwxtpHz94M"
      },
      "id": "keMwxtpHz94M"
    },
    {
      "cell_type": "code",
      "source": [
        "params = {'max_iter':10 ** 3,\n",
        "          'C':1e3,\n",
        "          #'penalty':'l2'\n",
        "         }\n",
        "\n",
        "model = LogisticRegression(**params)\n",
        "model.fit(X_train, y_train)    # 訓練データを用いて線形判別分析モデルを訓練\\n\",\n",
        "y_hat = model.predict(X_test)  # テストデータを使って予測を行い結果を y_hat に格納\\n\",\n",
        "print(f\"ロジスティック回帰を用いた分類精度: {metrics.accuracy_score(y_test, y_hat):.3f}\")\n",
        "print(f'分類報告:\\n{metrics.classification_report(y_test,y_hat)}')\n",
        "\n",
        "# 混同行列の表示\n",
        "print('混同行列:\\n', metrics.confusion_matrix(y_test,y_hat))\n",
        "# plt.figure(figsize=(8,6))\n",
        "# sns.heatmap(metrics.confusion_matrix(y_test, y_hat))"
      ],
      "metadata": {
        "id": "e1a30yIeCGRP"
      },
      "id": "e1a30yIeCGRP",
      "execution_count": null,
      "outputs": []
    },
    {
      "cell_type": "markdown",
      "source": [
        "## 線形判別分析\n"
      ],
      "metadata": {
        "id": "X_OmJduo0NAE"
      },
      "id": "X_OmJduo0NAE"
    },
    {
      "cell_type": "code",
      "source": [
        "params = {#'max_iter':10 ** 3,\n",
        "          #'C':1e3,\n",
        "          #'penalty':'l2'\n",
        "         }\n",
        "\n",
        "model = LinearDiscriminantAnalysis(**params)\n",
        "model.fit(X_train, y_train)    # 訓練データを用いて線形判別分析モデルを訓練\n",
        "y_hat = model.predict(X_test)  # テストデータを使って予測を行い結果を y_hat に格納\n",
        "print(f\"線形判別分析を用いた分類精度: {metrics.accuracy_score(y_test, y_hat):.3f}\")\n",
        "print(f'分類報告:\\n{metrics.classification_report(y_test,y_hat)}')\n",
        "\n",
        "# 混同行列の表示\n",
        "print('混同行列:\\n', metrics.confusion_matrix(y_test,y_hat))\n",
        "# plt.figure(figsize=(8,6))\n",
        "# sns.heatmap(metrics.confusion_matrix(y_test, y_hat))"
      ],
      "metadata": {
        "id": "i1zDPV2ABuKl"
      },
      "id": "i1zDPV2ABuKl",
      "execution_count": null,
      "outputs": []
    },
    {
      "cell_type": "markdown",
      "source": [
        "## サポートベクターマシン\n"
      ],
      "metadata": {
        "id": "tnBPgcEa0WG_"
      },
      "id": "tnBPgcEa0WG_"
    },
    {
      "cell_type": "code",
      "source": [
        "params = {'max_iter':10 ** 3,\n",
        "          'C':1e3,\n",
        "          #'penalty':'l2'\n",
        "         }\n",
        "\n",
        "model = SVC(**params)\n",
        "model.fit(X_train, y_train)    # 訓練データを用いて線形判別分析モデルを訓練\n",
        "y_hat = model.predict(X_test)  # テストデータを使って予測を行い結果を y_hat に格納\n",
        "print(f\"サポートベクターマシン用いた分類精度: {metrics.accuracy_score(y_test, y_hat):.3f}\")\n",
        "print(f'分類報告:\\n{metrics.classification_report(y_test,y_hat)}')\n",
        "# print(f'適合率 precision score:{metrics.precision_score(y_test, y_hat):.3f}')\n",
        "# print(f'再現率 recall  score  :{metrics.recall_score(y_test, y_hat):.3f}')\n",
        "# print(f'F1 値  F1 score       :{metrics.f1_score(y_test, y_hat):.3f}')\n",
        "\n",
        "# 混同行列の表示\n",
        "print('混同行列:\\n', metrics.confusion_matrix(y_test,y_hat))\n",
        "# plt.figure(figsize=(8,6))\n",
        "# sns.heatmap(metrics.confusion_matrix(y_test, y_hat))"
      ],
      "metadata": {
        "id": "xTig2ErwBxZU",
        "outputId": "70c3c86f-b124-436d-c90c-a3f8ed095376",
        "colab": {
          "base_uri": "https://localhost:8080/"
        }
      },
      "id": "xTig2ErwBxZU",
      "execution_count": null,
      "outputs": [
        {
          "output_type": "stream",
          "name": "stdout",
          "text": [
            "サポートベクターマシン用いた分類精度: 0.992\n",
            "分類報告:\n",
            "              precision    recall  f1-score   support\n",
            "\n",
            "           0       0.99      1.00      1.00       111\n",
            "           1       1.00      0.89      0.94         9\n",
            "\n",
            "    accuracy                           0.99       120\n",
            "   macro avg       1.00      0.94      0.97       120\n",
            "weighted avg       0.99      0.99      0.99       120\n",
            "\n",
            "混同行列:\n",
            " [[111   0]\n",
            " [  1   8]]\n"
          ]
        }
      ]
    },
    {
      "cell_type": "markdown",
      "source": [
        "## 3 手法比較\n"
      ],
      "metadata": {
        "id": "gom1BG_v0f-J"
      },
      "id": "gom1BG_v0f-J"
    },
    {
      "cell_type": "code",
      "source": [
        "# 40 名の顔認識データをもちいて 3 手法を比較\n",
        "X_train, X_test, y_train, y_test=train_test_split(X, y, test_size=split_ratio, stratify=y, random_state=42)\n",
        "\n",
        "# 共通パラメータ\n",
        "params = {'max_iter':10 ** 4,\n",
        "          #'C':1e3,\n",
        "          #'penalty':'l2'\n",
        "         }\n",
        "\n",
        "# 3 つのモデルの定義\n",
        "svc_model = SVC(**params)\n",
        "logistic_model = LogisticRegression(**params)\n",
        "lda_model = LinearDiscriminantAnalysis()\n",
        "\n",
        "# 出力する図のサイズを定義\n",
        "fig, _axes = plt.subplots(ncols=3, nrows=1, figsize=(12,4), constrained_layout=True)\n",
        "\n",
        "# 3 つのモデルをそれぞれ実行して結果を描画\n",
        "for i, (model_name, model) in enumerate([('サポートベクタマシン',svc_model),\n",
        "                                         ('ロジスティック回帰',logistic_model),\n",
        "                                         ('線形判別分析',lda_model)]):\n",
        "    model.fit(X_train, y_train)\n",
        "    y_hat = model.predict(X_test)\n",
        "    y_hat = model.predict(X_test)  # テストデータを使って予測を行い結果を y_hat に格納\n",
        "\n",
        "    _axes[i].imshow(metrics.confusion_matrix(y_test,y_hat), cmap='gray')\n",
        "    _axes[i].set_title(f'{model_name}:分類精度:{metrics.accuracy_score(y_test,y_hat):.2f}')\n",
        "    _axes[i].axis('off')\n",
        "    print(f'分類報告:\\n{metrics.classification_report(y_test,y_hat)}')\n",
        "    # print(f'適合率 precision score:{metrics.precision_score(y_test, y_hat, average='macro'):.3f}')\n",
        "    # print(f'再現率 recall  score  :{metrics.recall_score(y_test, y_hat, average='macro'):.3f}')\n",
        "    # print(f'F1 値  F1 score       :{metrics.f1_score(y_test, y_hat, average='macro'):.3f}')\n",
        "\n",
        "plt.show()"
      ],
      "metadata": {
        "id": "CYVUL4ik0jcA"
      },
      "id": "CYVUL4ik0jcA",
      "execution_count": null,
      "outputs": []
    },
    {
      "cell_type": "markdown",
      "source": [
        "## リーブ・ワン・アウト 交差検証\n",
        "\n",
        "オリベッティ顔データセットには，各被験者に対して 10 枚の顔画像が含まれています。\n",
        "これは， 機械学習モデルの学習やテストには少ない数です。\n",
        "\n",
        "クラスの例が少ない機械学習モデルをよりよく評価するために，採用される交差検証法にリーブ・ワン・アウト leave-one-out (LOO) 交差検証法があります。\n",
        "LOO 法では，あるクラスのサンプルのうち 1 つだけをテストに使用します。\n",
        "他のサンプルは訓練に使用します。 この手順を， 全サンプルを一度づつテストに使用して繰り返さします。"
      ],
      "metadata": {
        "id": "1z4Bwuo9aTEO"
      },
      "id": "1z4Bwuo9aTEO"
    },
    {
      "cell_type": "code",
      "source": [
        "%%time\n",
        "from sklearn.model_selection import LeaveOneOut\n",
        "\n",
        "loo_cv = LeaveOneOut()\n",
        "model = LogisticRegression(**params)\n",
        "cv_scores = cross_val_score(model, X_train, y_train, cv=loo_cv)\n",
        "\n",
        "print(f\"{model.__class__.__name__} リーブ・ワン・アウト交差検証法による平均得点:{cv_scores.mean():.3f}\")"
      ],
      "metadata": {
        "id": "b408wi0faU0V"
      },
      "id": "b408wi0faU0V",
      "execution_count": null,
      "outputs": []
    },
    {
      "cell_type": "code",
      "source": [
        "import numpy as np\n",
        "import matplotlib.pyplot as plt\n",
        "\n",
        "# シグモイド関数の描画\n",
        "# logits = [_x/(1.-_x) for _x in x]\n",
        "# plt.plot(x, logits)\n",
        "# plt.show()\n",
        "\n",
        "# plt.plot(x, np.log(logits))\n",
        "# plt.show()\n",
        "\n",
        "# x = np.arange(-10, 10, 0.01)\n",
        "# sigmoids = [1./(1.+np.exp(-_x)) for _x in x]\n",
        "# plt.plot(x, sigmoids)\n",
        "# plt.show()\n",
        "\n",
        "# x = np.arange(-10, 10, 0.01)\n",
        "# sigmoids = [1./(1.+np.exp(-_x)) for _x in x]\n",
        "# plt.plot(x, sigmoids, label=\"sigmoid\", c='red')\n",
        "# plt.plot(x, np.tanh(x), label=\"tanh\", c='green')\n",
        "# plt.legend()\n",
        "# plt.show()"
      ],
      "metadata": {
        "id": "hNCGjJ6FHCft"
      },
      "execution_count": null,
      "outputs": [],
      "id": "hNCGjJ6FHCft"
    },
    {
      "cell_type": "markdown",
      "id": "701b9057-1abd-478f-9e17-5a30b7b0ce20",
      "metadata": {
        "id": "701b9057-1abd-478f-9e17-5a30b7b0ce20"
      },
      "source": [
        "## 交差検証"
      ]
    },
    {
      "cell_type": "code",
      "execution_count": null,
      "id": "d8e27bda-c885-4f53-a236-c444d77e2f44",
      "metadata": {
        "id": "d8e27bda-c885-4f53-a236-c444d77e2f44"
      },
      "outputs": [],
      "source": [
        "%%time\n",
        "from sklearn.model_selection import cross_val_score\n",
        "from sklearn.model_selection import KFold\n",
        "\n",
        "name = 'ロジスティック回帰'\n",
        "model = LogisticRegression(**params)\n",
        "kfold = KFold(n_splits=5, shuffle=True, random_state=42)\n",
        "cv_scores = cross_val_score(model, X_train, y_train, cv=kfold)\n",
        "print(f\"{name} 平均交差検証得点: {cv_scores.mean():.2f}\")"
      ]
    },
    {
      "cell_type": "markdown",
      "id": "ca8819b8-db47-44db-b5e8-fc2fa3dd79e6",
      "metadata": {
        "id": "ca8819b8-db47-44db-b5e8-fc2fa3dd79e6"
      },
      "source": [
        "## ハイパーパラメータの調整: GridSearcCV\n",
        "\n",
        "モデルの汎化性能向上のために GridSearchCV を行います。\n",
        "ロジスティック回帰分類器のハイパーパラメータを調整してみます。"
      ]
    },
    {
      "cell_type": "code",
      "execution_count": null,
      "id": "6952b8de-87a5-4c4d-afac-2c411e7c6bf0",
      "metadata": {
        "id": "6952b8de-87a5-4c4d-afac-2c411e7c6bf0"
      },
      "outputs": [],
      "source": [
        "%%time\n",
        "from sklearn.model_selection import GridSearchCV\n",
        "from sklearn.model_selection import LeaveOneOut\n",
        "\n",
        "params2={'penalty':['l1', 'l2'],\n",
        "        'C':np.logspace(0, 4, 10),\n",
        "        'max_iter': [10 ** 4],\n",
        "       }\n",
        "model = LogisticRegression()\n",
        "loo_cv = LeaveOneOut()\n",
        "gridSearchCV = GridSearchCV(model, params2, cv=loo_cv)\n",
        "gridSearchCV.fit(X_train, y_train)\n",
        "print(\"Grid search fitted..\")\n",
        "print(gridSearchCV.best_params_)\n",
        "print(gridSearchCV.best_score_)\n",
        "print(f\"グリッドサーチによる交差妥当性得点:{gridSearchCV.score(X_test, y_test):.3f}\")"
      ]
    },
    {
      "cell_type": "markdown",
      "source": [
        "# PCA 固有顔 Eigenfaces"
      ],
      "metadata": {
        "id": "_8TrzyS6IYqj"
      },
      "id": "_8TrzyS6IYqj"
    },
    {
      "cell_type": "code",
      "source": [
        "# X を n 行 m 列の行列として，列方向 m x m の相関係数行列を求める\n",
        "# すなわち各画素ごとの相関係数行列を計算する\n",
        "# オリベッティ顔データの場合 64 x 64 = 4096 画素分のデータなので,相関係数行列は 4096 x 4096 の大きさとなる\n",
        "#np.set_printoptions(precision=3)\n",
        "np.set_printoptions(formatter={'float': '{:.2f}'.format})\n",
        "\n",
        "x_mean = np.mean(X, axis=0)   # 各列の平均値を計算\n",
        "_X = X - x_mean               # 各列の平均値を減じて平均偏差ベクトルとする\n",
        "Cov = _X.T @ _X / _X.shape[0] # 共分散行列\n",
        "_X_std = np.std(_X, axis=0)     # 各列の標準偏差\n",
        "R = Cov / np.outer(_X_std.T, _X_std) # 共分散行列の各列を対応する標準偏差の積で除して相関係数行列にする\n",
        "print(f'R.shape:{R.shape}')        # 確認用 相関係数行列のサイズ\n",
        "print(f'相関係数行列 R:\\n{R[8:15,8:15]}')           # 確認用 相関係数行列の最初の 3 行 3 列を表示する\n",
        "\n",
        "R2 = np.corrcoef(X.T)              # 上記を一行で行う numpy コマンド\n",
        "print(f'相関係数行列 R2:\\n{R2[8:15,8:15]}')         # 結果の表示"
      ],
      "metadata": {
        "id": "Z60qpsFHIdKT"
      },
      "id": "Z60qpsFHIdKT",
      "execution_count": null,
      "outputs": []
    },
    {
      "cell_type": "code",
      "source": [
        "# 上セルとは異なりデータ行列 X (n 行 m 列) の行方向 n x n の相関係数行列を求める\n",
        "# この場合 400 画像 x 400 画像 (400 は 40 人分の画像で各人 10 枚の画像)\n",
        "import seaborn as sns  # ヒートマップ描画のために使用\n",
        "\n",
        "plt.figure(figsize=(10,10))\n",
        "sns.heatmap(np.corrcoef(X), center=0, vmin=-1., vmax=1., square=True, cmap='gnuplot2')\n",
        "plt.show()"
      ],
      "metadata": {
        "id": "QXLGyHa8IfjA"
      },
      "id": "QXLGyHa8IfjA",
      "execution_count": null,
      "outputs": []
    },
    {
      "cell_type": "code",
      "source": [
        "# 平均画像を描画\n",
        "x_mean = np.mean(X, axis=0)   # 各列の平均値を計算\n",
        "print(f'x_mean.min():{x_mean.min():.2f}',\n",
        "      f'x_mean.max():{x_mean.max():.2f}')\n",
        "#print(X.min(), X.max())\n",
        "plt.figure(figsize=(2.5,2.5))\n",
        "plt.title(f'平均顔, 最小値:{x_mean.min():.2f}, 最大値:{x_mean.max():.2f}')\n",
        "plt.imshow(x_mean.reshape(64,64), cmap='gray')\n",
        "plt.axis('off')\n",
        "plt.show()"
      ],
      "metadata": {
        "id": "OTfzM0YmIhzc"
      },
      "id": "OTfzM0YmIhzc",
      "execution_count": null,
      "outputs": []
    },
    {
      "cell_type": "code",
      "source": [
        "# いくつかの画像に対して，平均顔からの差分を画像化して表示してみる\n",
        "idxes = [0, 10, 20, 30, 40, 50, 60, 70, 80]\n",
        "fig, axes = plt.subplots(nrows=1, ncols=len(idxes), figsize=(len(idxes) * 1.2, 1.5))\n",
        "for i in range(0,len(idxes),1):\n",
        "    idx = idxes[i]\n",
        "    #print(f'idx:{idx}')\n",
        "    axes[i].imshow((X[idx] - x_mean).reshape(64,64), cmap='gray')\n",
        "    axes[i].set_title(f'idx:{idx}')\n",
        "    axes[i].axis('off')\n",
        "\n",
        "plt.show()"
      ],
      "metadata": {
        "id": "8UjDln-yIj8d"
      },
      "id": "8UjDln-yIj8d",
      "execution_count": null,
      "outputs": []
    },
    {
      "cell_type": "code",
      "source": [
        "%%time\n",
        "class PCA():\n",
        "    def __init__(self, X:np.array, n_dim:int=500):\n",
        "        self.X = X\n",
        "\n",
        "        N, M = X.shape\n",
        "        if N < M:\n",
        "            self.n_dim = N\n",
        "        else:\n",
        "            self.n_dim = M\n",
        "\n",
        "        if self.n_dim > n_dim:\n",
        "            self.n_dim = n_dim\n",
        "        self.mean = np.mean(X, axis=0)          # 行列 X の各列ごとの平均を求める\n",
        "        self._X = X - self.mean                 # 各列ごとの平均を引いた 平均偏差行列 _X\n",
        "        self.Corr = np.dot(self._X.T, self._X)  # 各列ごとの分散共分散行列 Corr\n",
        "        self.Eigenvalues, self.Eigenvectors = np.linalg.eig(self.Corr)  # 固有値問題を解く\n",
        "\n",
        "        self.Eigenvalues = self.Eigenvalues[0:self.n_dim].copy()\n",
        "        self.Eigenvectors = self.Eigenvectors[:,0:self.n_dim].copy()\n",
        "        self.projections = np.dot(self._X, self.Eigenvectors)\n",
        "\n",
        "    def _reconstruct(self, start:int=0, end:int=10):\n",
        "        return np.dot(self.projections[:,start:end], self.Eigenvectors[:,start:end].T) + self.mean\n",
        "\n",
        "\n",
        "_PCA = PCA(X=X)\n",
        "Eigenvalues, Eigenvectors, mean = _PCA.Eigenvalues, _PCA.Eigenvectors, _PCA.mean\n",
        "print(f'Eigenvalues.shape:{Eigenvalues.shape}',\n",
        "      f'\\nEigenvectors.shape:{Eigenvectors.shape}',\n",
        "      f'\\nmean.shape:{mean.shape}')\n",
        "\n",
        "plt.figure(figsize=(2,2))\n",
        "plt.title('平均顔')\n",
        "plt.imshow(mean.reshape(64,64), cmap='gray')\n",
        "plt.show()"
      ],
      "metadata": {
        "id": "OWCmA5hSIo6k"
      },
      "id": "OWCmA5hSIo6k",
      "execution_count": null,
      "outputs": []
    },
    {
      "cell_type": "code",
      "source": [
        "# いくつかの画像に対して，平均顔からの差分を画像化して表示してみる\n",
        "idxes = [0, 10, 20, 30, 40, 50, 60, 70, 80]\n",
        "n_idx = 12\n",
        "idxes = sorted(np.random.permutation(np.arange(X.shape[0]))[:n_idx])\n",
        "fig, axes = plt.subplots(nrows=1, ncols=len(idxes), figsize=(len(idxes) * 1.2, 1.5))\n",
        "for i in range(0,len(idxes),1):\n",
        "    idx = idxes[i]\n",
        "    #print(f'idx:{idx}')\n",
        "    axes[i].imshow((X[idx] - x_mean).reshape(64,64), cmap='gray')\n",
        "    axes[i].set_title(f'idx:{idx}', size=8)\n",
        "    axes[i].axis('off')\n",
        "\n",
        "plt.suptitle('いくつかの画像に対して，平均顔からの差分を画像化', size=10)\n",
        "plt.show()"
      ],
      "metadata": {
        "id": "tW6rgJ1AayMm"
      },
      "id": "tW6rgJ1AayMm",
      "execution_count": null,
      "outputs": []
    },
    {
      "cell_type": "markdown",
      "source": [
        "## 固有値のプロット (降順)"
      ],
      "metadata": {
        "id": "v397odVca3Nh"
      },
      "id": "v397odVca3Nh"
    },
    {
      "cell_type": "code",
      "source": [
        "# 大きい方から上位 N 個の固有値をプロットしてみる\n",
        "N = 200\n",
        "plt.plot(Eigenvalues[:N])\n",
        "plt.title(f'固有値のプロット: max:{_PCA.n_dim}')\n",
        "\n",
        "\n",
        "N_pca = 10\n",
        "fix, axes = plt.subplots(nrows=1, ncols=N_pca, figsize=(N_pca * 1.4, 1.4))\n",
        "for i in range(N_pca):\n",
        "    axes[i].imshow(_PCA.Eigenvectors[:,i].reshape(64,64), cmap=\"gray\")\n",
        "    axes[i].set_title(f'第 {i+1} 固有値に対応\\nする固有ベクトル', size=7)\n",
        "    axes[i].axis('off')\n",
        "\n",
        "plt.show()"
      ],
      "metadata": {
        "id": "Hy9T4qNka5Zs"
      },
      "id": "Hy9T4qNka5Zs",
      "execution_count": null,
      "outputs": []
    },
    {
      "cell_type": "markdown",
      "source": [
        "## 固有ベクトルの相関係数行列を可視化\n"
      ],
      "metadata": {
        "id": "j5H07ld6bJ89"
      },
      "id": "j5H07ld6bJ89"
    },
    {
      "cell_type": "code",
      "source": [
        "plt.figure(figsize=(10,10))\n",
        "sns.heatmap(np.corrcoef(_PCA.Eigenvectors.T)[:400,:400], center=0, vmin=-1., vmax=1., square=True, cmap='gnuplot2')\n",
        "plt.title('固有ベクトルの相関係数行列を可視化')\n",
        "plt.show()"
      ],
      "metadata": {
        "id": "lPLgr3S5bMXd"
      },
      "id": "lPLgr3S5bMXd",
      "execution_count": null,
      "outputs": []
    },
    {
      "cell_type": "markdown",
      "source": [
        "## PCA による次元圧縮の結果を表示\n"
      ],
      "metadata": {
        "id": "_Soz_jNBbYq8"
      },
      "id": "_Soz_jNBbYq8"
    },
    {
      "cell_type": "code",
      "source": [
        "# PCA による次元圧縮の結果を表示\n",
        "\n",
        "fig, axes = plt.subplots(ncols=3, nrows=1, figsize=(14,4))\n",
        "axes[0].scatter(_PCA.projections[:,0], _PCA.projections[:,1], s=1)\n",
        "axes[0].set_xlabel('第 1 主成分')\n",
        "axes[0].set_ylabel('第 2 主成分')\n",
        "for i in range(_PCA.projections.shape[0]):\n",
        "    axes[0].annotate(str(y[i]), (_PCA.projections[i,0], _PCA.projections[i,1]))\n",
        "\n",
        "axes[1].scatter(_PCA.projections[:,1], _PCA.projections[:,2], s=1)\n",
        "axes[1].set_xlabel('第 2 主成分')\n",
        "axes[1].set_ylabel('第 3 主成分')\n",
        "for i in range(_PCA.projections.shape[0]):\n",
        "    axes[1].annotate(str(y[i]), (_PCA.projections[i,1], _PCA.projections[i,2]))\n",
        "\n",
        "axes[2].scatter(_PCA.projections[:,0], _PCA.projections[:,3], s=1)\n",
        "axes[2].set_xlabel('第 1 主成分')\n",
        "axes[2].set_ylabel('第 4 主成分')\n",
        "for i in range(_PCA.projections.shape[0]):\n",
        "    axes[2].annotate(str(y[i]), (_PCA.projections[i,0], _PCA.projections[i,3]))\n",
        "\n",
        "plt.show()"
      ],
      "metadata": {
        "id": "NdAvqkHJIrR-"
      },
      "id": "NdAvqkHJIrR-",
      "execution_count": null,
      "outputs": []
    },
    {
      "cell_type": "markdown",
      "source": [
        "## PCA による固有顔の再構成"
      ],
      "metadata": {
        "id": "GC82DIa6be_A"
      },
      "id": "GC82DIa6be_A"
    },
    {
      "cell_type": "code",
      "source": [
        "# 表示する画像番号リストを idexes で宣言\n",
        "idxes = [0, 10, 20, 40, 60, 70]\n",
        "idxes = [70, 71, 72, 73, 74, 75]\n",
        "\n",
        "# 乱数を発生させて n_idx 個のデータ画像をランダムに選んで idxes に格納する\n",
        "n_idx = 10\n",
        "idxes = sorted(np.random.permutation(np.arange(X.shape[0]))[:n_idx])\n",
        "\n",
        "# PCA による画像の再構成時に何個の固有ベクトルを重ねるを指定するリスト ends\n",
        "ends = [1, 10, 20, 40, 80, 160, 320]\n",
        "ends = [1, 10, 20, 30, 40, 50, 100, 150, 200, 250, 300]\n",
        "\n",
        "# 表示する画像サイズの宣言 figsize の幅と高さを指定,単位は歴史的経緯からインチ\n",
        "fig, axes = plt.subplots(nrows=len(idxes), ncols=len(ends), figsize=(1.4 * len(ends), 1.6 * len(idxes)))\n",
        "for i, idx in enumerate(idxes):\n",
        "    for j, end in enumerate(ends):\n",
        "        axes[i][j].axis('off')\n",
        "        if j == 0:\n",
        "            axes[i][j].set_title(f'画像番号:{idx}')\n",
        "        else:\n",
        "            axes[i][j].set_title(f'{end} 次元まで')\n",
        "        axes[i][j].imshow((_PCA.projections[idx,0:end] @ _PCA.Eigenvectors[:,0:end].T + _PCA.mean).reshape(64,64), cmap='gray')\n",
        "\n",
        "plt.show()\n"
      ],
      "metadata": {
        "id": "pM6gioH1bgfZ"
      },
      "id": "pM6gioH1bgfZ",
      "execution_count": null,
      "outputs": []
    },
    {
      "cell_type": "markdown",
      "source": [
        "## 固有顔 (PCA) を用いた分類"
      ],
      "metadata": {
        "id": "wsBJNZHPbj1v"
      },
      "id": "wsBJNZHPbj1v"
    },
    {
      "cell_type": "code",
      "source": [
        "# 固有顔 (PCA) を用いて 40 名の顔認識データをもちいて 3 手法を比較\n",
        "X_train, X_test, y_train, y_test=train_test_split(_PCA.projections, y, test_size=split_ratio, stratify=y, random_state=42)\n",
        "#X_train, X_test, y_train, y_test=train_test_split(_PCA.projections, y_sex, test_size=split_ratio, stratify=y, random_state=42)\n",
        "\n",
        "# 共通パラメータ\n",
        "params = {'max_iter':10 ** 4,\n",
        "          #'C':1e3,\n",
        "          #'penalty':'l2'\n",
        "         }\n",
        "\n",
        "# 3 つのモデルの定義\n",
        "svc_model = SVC(**params)\n",
        "logistic_model = LogisticRegression(**params)\n",
        "lda_model = LinearDiscriminantAnalysis()\n",
        "\n",
        "# 出力する図のサイズを定義\n",
        "fig, _axes = plt.subplots(ncols=3, nrows=1, figsize=(12,4), constrained_layout=True)\n",
        "\n",
        "# 3 つのモデルをそれぞれ実行して結果を描画\n",
        "for i, (model_name, model) in enumerate([('サポートベクタマシン',svc_model),\n",
        "                                         ('ロジスティック回帰',logistic_model),\n",
        "                                         ('線形判別分析',lda_model)]):\n",
        "    model.fit(X_train, y_train)\n",
        "\n",
        "    y_hat = model.predict(X_test)  # テストデータを使って予測を行い結果を y_hat に格納\n",
        "\n",
        "    _axes[i].imshow(metrics.confusion_matrix(y_test,y_hat), cmap='gray')\n",
        "    _axes[i].set_title(f'{model_name}:分類精度:{metrics.accuracy_score(y_test,y_hat):.2f}')\n",
        "    _axes[i].axis('off')\n",
        "\n",
        "    print(model_name, '\\n', metrics.confusion_matrix(y_test,y_hat))\n",
        "    print(model_name, '\\n', metrics.classification_report(y_test,y_hat))\n",
        "\n",
        "plt.show()"
      ],
      "metadata": {
        "id": "MYuE8TJWbkmQ"
      },
      "id": "MYuE8TJWbkmQ",
      "execution_count": null,
      "outputs": []
    },
    {
      "cell_type": "markdown",
      "source": [
        "## tSNE によるプロット"
      ],
      "metadata": {
        "id": "wP9bW8YMbpeJ"
      },
      "id": "wP9bW8YMbpeJ"
    },
    {
      "cell_type": "code",
      "source": [
        "from sklearn.manifold import TSNE\n",
        "X_tsne = TSNE(n_components=2, learning_rate='auto',\n",
        "              init='random', perplexity=3).fit_transform(X)\n",
        "\n",
        "PCA_tsne = TSNE(n_components=2, learning_rate='auto',\n",
        "              init='random', perplexity=3).fit_transform(_PCA.projections)\n"
      ],
      "metadata": {
        "id": "okTvz_DpbrFQ"
      },
      "id": "okTvz_DpbrFQ",
      "execution_count": null,
      "outputs": []
    },
    {
      "cell_type": "code",
      "source": [
        "#plt.figure(figsize=(12,6))\n",
        "fig, axes = plt.subplots(nrows=1, ncols=2, figsize=(12,6))\n",
        "\n",
        "axes[0].scatter(X_tsne[:,0], X_tsne[:,1], s=1)\n",
        "for i in range(X_tsne.shape[0]):\n",
        "    axes[0].annotate(str(y[i]), (X_tsne[i,0], X_tsne[i,1]))\n",
        "axes[0].set_title('tSNE プロット')\n",
        "\n",
        "axes[1].scatter(PCA_tsne[:,0], PCA_tsne[:,1], s=1)\n",
        "for i in range(PCA_tsne.shape[0]):\n",
        "    axes[1].annotate(str(y[i]), (X_tsne[i,0], X_tsne[i,1]))\n",
        "axes[1].set_title('tSNE プロット')\n",
        "plt.show()"
      ],
      "metadata": {
        "id": "t45EfhY4byMB"
      },
      "id": "t45EfhY4byMB",
      "execution_count": null,
      "outputs": []
    },
    {
      "cell_type": "markdown",
      "source": [
        "# フィッシャー顔 Fisherfaces\n",
        "\n",
        "線形判別分析は、R.A.フィッシャー 卿によって発明された。\n",
        "フィッシャーは 1936 年の論文 \"The use of multiple measurements in classificationonomic problems\" の中で、アヤメの分類に用いることに成功した。\n",
        "<!-- しかし、主成分分析 (PCA) がこれほどうまくいったのに、なぜ別の次元削減法が必要なのだろうか？-->\n",
        "PCA はデータの全分散を最大化する特徴の線形結合を見つける。\n",
        "これは強力な方法だが、クラスを考慮しないため、成分を捨てるときに多くの識別情報が失われる可能性がある。\n",
        "分散が外部ソースによって生成される状況を想像してみよう。\n",
        "PCA によって同定された成分は、必ずしも識別情報を全く含まないので、投影されたサンプルは互いに混ざり合い、分類は不可能になる。\n",
        "クラス間を最もよく分離する特徴の組み合わせを見つけるために、線形判別分析はクラス間のばらつきとクラス内のばらつきの比率を最大化する。\n",
        "考え方は単純で、同じクラスは互いに密に集まり、異なるクラスはできるだけ離れるべきである。\n",
        "このことは Belhumeur_Hespanha_Kriegman も認識しており、彼らは [3] で顔認識に判別分析を適用した。\n",
        "<!-- The Linear Discriminant Analysis was invented by the great statistician Sir R. A. Fisher, who successfully used it for classifying owers in his 1936 paper The use of multiple measurements in taxonomic problems [8].\n",
        "But why do we need another dimensionality reduction method, if the Principal Component Analysis (PCA) did such a good job?\n",
        "The PCA  finds a linear combination of features that maximizes the total variance in data.\n",
        "While this is clearly a powerful way to represuccsent data, it doesn't consider any classes and so a lot of discriminative information may be lost when throwing components away.\n",
        "Imagine a situation where the variance is generated by an external source, let it be the light.\n",
        "The components identified by a PCA do not necessarily contain any discriminative information at all, so the projected samples are smeared together and a classification becomes impossible.\n",
        "In order to  nd the combination of features that separates best between classes the Linear Discriminant Analysis maximizes the ratio of between-classes to within-classes scatter.\n",
        "The idea is simple: same classes should cluster tightly together, while different classes are as far away as possible from each other.\n",
        "This was also recognized by Belhumeur, Hespanha and Kriegman and so they applied a Discriminant Analysis to face recognition in [3]. -->\n",
        "\n",
        "* [3] Belhumeur, P. N., Hespanha, J., and Kriegman, D. Eigenfaces vs. Fisherfaces: Recognition using class specific linear projection. IEEE Transactions on Pattern Analysis and Machine Intelligence 19, 7 (1997), 711-720.\n",
        "* [4] Brunelli, R., and Poggio, T. Face recognition through geometrical features. In European Conference on Computer Vision (ECCV) (1992), pp. 792-800.\n",
        "* [5] Cardinaux, F., Sanderson, C., and Bengio, S. User authentication via adapted statistical models of face images. IEEE Transactions on Signal Processing 54 (January 2006), 361-373.\n",
        "* [6] Chiara Turati, Viola Macchi Cassia, F. S., and Leo, I. Newborns face recognition: Role of inner and outer facial features. Child Development 77, 2 (2006), 297-311.\n",
        "* [7] Duda, R. O., Hart, P. E., and Stork, D. G. Pattern Classification (2nd Edition), 2 ed. November 2001.\n",
        "* [8] Fisher, R. A. The use of multiple measurements in taxonomic problems. Annals Eugen. 7 (1936), 179-188.\n",
        "\n",
        "### アルゴリズムの説明\n",
        "<!--2.3.1 Algorithmic Description-->\n",
        "\n",
        "$X$ を $c$ 個のクラスから抽出したランダムベクトルとする：\n",
        "<!--Let $X$ be a random vector with samples drawn from c classes: -->\n",
        "$$\\tag{8}\n",
        "X = \\left\\{X_1,X_2,\\ldots,X_{c}\\right\\}\n",
        "$$\n",
        "$$\\tag{9}\n",
        "X_i = \\left\\{x_1, x_2,\\ldots, x_{n}\\right\\}\n",
        "$$\n",
        "\n",
        "分散行列 $S_B$ (級間分散) と $S_W$ (級内分散) は次式のように定義される：\n",
        "<!-- The scatter matrices $S_B$ and $S_W$ are defined as: -->\n",
        "$$\\tag{10}\n",
        "S_B = \\sum_{i=1}^{c} N_i (\\mu_i - \\mu)(\\mu_i - \\mu)^{\\top},\n",
        "$$\n",
        "$$\\tag{11}\n",
        "S_W = \\sum_{i=1}^{c} \\sum_{x \\in X_i} (x - \\mu_i)(x - \\mu_i)^{\\top},\n",
        "$$\n",
        "ここで $\\mu$ は全平均:<!--where $\\mu$ is the total mean:-->\n",
        "$$\\tag{12}\n",
        "\\mu = \\frac{1}{N} \\sum_{i=1}^{N} x_i,\n",
        "$$\n",
        "さらに $\\mu_i$ は群内平均:<!--And $\\mu_i$ is the mean of class $i\\in\\left\\{1,\\ldots,C\\right\\}$:-->\n",
        "$$\\tag{13}\n",
        "\\mu_i = \\frac{1}{\\left|X_i\\right|} \\sum_{x_{j} \\in X_{i}} x_{j}.\n",
        "$$\n",
        "フィッシャーの古典的アルゴリズムは、クラス分離可能性基準を最大化する射影行列 $W$ を探す：\n",
        "<!-- Fisher's classic algorithm now looks for a projection matrix $W$, that maximizes the class separability criterion: -->\n",
        "$$\\tag{14}\n",
        "W_{opt}=\\arg\\max_{W} \\frac{\\left|W^{\\top} S_B W\\right|}{\\left|W^{\\top} S_W W\\right|},\n",
        "$$\n",
        "[3] に従って、この最適化問題の解は、一般固有値問題を解くことによって与えられる：\n",
        "<!-- Following[3], a solution for this optimization problem is given by solving the Genral Eigenvalue Problem: -->\n",
        "$$\\tag{15}\\begin{aligned}\n",
        "S_{B}\\nu_i &= \\lambda_i S_{W}\\nu_i,\\\\\n",
        "S_{W}^{-1} S_{B} \\nu_i &= \\lambda_i \\nu_i,\n",
        "\\end{aligned}$$\n",
        "\n",
        "解決すべき問題が 1 つ残っている：\n",
        "$S_W$ のランクは最大でも $(N-c)$ であり，$N$ 個のサンプルと $c$ 個のクラスが存在する。\n",
        "パターン認識問題では，サンプル数 $N$ は入力データの次元 (画素数) より小さいことがほとんどなので，分散行列 $S_W$ は特異行列になる ([2]を参照)。\n",
        "[3] では、データに対して主成分分析を実行し、サンプルを (N-c) 次元空間に射影することでこれを解決した。\n",
        "$S_W$ が特異でなくなったので、線形判別分析が縮小データに対して実行される。\n",
        "最適化問題は次のように書き換えられる:\n",
        "<!-- There's one problem left to solve:\n",
        "The rank of S_W is at most (N-c), with N samples and c classes.\n",
        "In pattern recognition problems the number of samples N is almost always smaller than the dimension of the input data (the number of pixels), so the scatter matrix SW becomes singular (see [2]).\n",
        "In [3] this was solved by performing a Principal Component Analysis on the data and projecting the samples int the (N-c)-dimensional space.\n",
        "A Linear Discriminant Analysis is then performed on the reduced data, because S_W is not singular anymore.\n",
        "The optimization problem is can be rewritten as: -->\n",
        "$$\\tag{16}\n",
        "W_{pca}=\\arg\\max_{W} \\left|W^{\\top} S_T W\\right|\n",
        "$$\n",
        "\n",
        "$$\\tag{17}\n",
        "W_{fld} = \\arg\\max_W \\frac{\\left|W^{\\top} W_{pca}^{\\top} S_B W_{pca}W\\right|}{\\left|W^{\\top} W_{pca}^{\\top}S_W W_{pca}W\\right|},\n",
        "$$\n",
        "サンプルを (c-1) 次元空間に投影する変換行列 $W$ は次のように与えられる：\n",
        "<!-- The transformation matrix $W$, that projects a sample into the (c-1)-dimensional space is then given by:-->\n",
        "$$\\tag{18}\n",
        "W = W_{fld}^{\\top}W_{pca}^{\\top}.\n",
        "$$\n",
        "\n",
        "最後に注意点：\n",
        "$S_W$ と $S_B$ とは対称行列であるが，対称行列同士の積は必ずしも対称ではないので，一般行列用の固有値ソルバを使う必要がある。\n",
        "OpenCV の `cv:eigen` は，現在のバージョンでは対称行列に対してのみ動作する。\n",
        "非対称行列に対しては，特異値の固有値は等価ではないので，特異値分解（SVD）ソルバーを利用することはできない．\n",
        "<!-- one final note:\n",
        "Although $S_W$ and $S_B$ are symmetric matrices, the product of two symmetric matrices is not necessarily symmetric; thus, so you have to use an eigenvalue solver for general matrices.\n",
        "OpenCV's `cv:eigen` only works for symmetric matrices in it scurrent version; since eigenvlues of singular values are not equivalent for non-symmetric matrices you can not use a Singular Value Decomposition (SVD) eigher. -->\n"
      ],
      "metadata": {
        "id": "RdAMVKdQb145"
      },
      "id": "RdAMVKdQb145"
    },
    {
      "cell_type": "markdown",
      "id": "44a8c08d-0222-45e7-ac36-ee675d0e306a",
      "metadata": {
        "id": "44a8c08d-0222-45e7-ac36-ee675d0e306a"
      },
      "source": [
        "\n",
        "## 固有顔 Eigenfaces\n",
        "\n",
        "与えられた画像表現の問題は、その高次元性である。\n",
        "2次元の $p\\times q$ の濃淡画像は $m=pq$ 次元のベクトル空間にまたがるので、$100\\times100$ 画素の画像はすでに 10,000 次元の画像空間にある。\n",
        "これはどんな計算をするにも多すぎるが、すべての次元が本当に我々にとって有用なのだろうか？\n",
        "我々はデータに分散がある場合にのみ判断を下すことができるので、我々が探しているのは情報の大部分を占める成分である。\n",
        "主成分分析 (PCA) は、カール・ピアソン(1901) とハロルド・ホテリング (1933) によって独自に提案されたもので，相関している可能性のある変数の集合を，より小さな相関していない変数の集合に変えるものである。\n",
        "このアイデアは、高次元のデータ集合は、しばしば相関のある変数によって記述され、したがって、いくつかの意味のある次元だけが情報の大部分を占めるというものである。\n",
        "PCA は、主成分と呼ばれるデータ中の最大の分散を持つ方向を見つける。\n",
        "<!-- The problem with the image representation we are given is its high dimensionality.\n",
        "Two-dimensional pxq grayscale images span a m=pq-dimensional vector space, so an image with 100x100 pixels lies in a 10,000-dimensional image space already.\n",
        "That's way too much for any computations, but are all dimensions really useful for us?\n",
        "We can only make a decision if there's any variance in data, so what we are looking for are the components that account for most of the information.\n",
        "The Principal Component Analysis (PCA) was independently proposed by Karl Pearson (1901) and Harold Hotelling (1933) to turn a set of possibly correlated variables into a smaller set of uncorrelated variables.\n",
        "The idea is that a high-dimensional dataset is often described by correlated variables and therefore only a few meaningful dimensions account for most of the information.\n",
        "The PCA method finds the directions with the greatest variance in the data, called principal components. -->\n"
      ]
    },
    {
      "cell_type": "markdown",
      "id": "faf5815a",
      "metadata": {
        "id": "faf5815a"
      },
      "source": [
        "### アルゴリズム<!--Algorithmic Description-->\n",
        "\n",
        "$X=\\left\\{x_1,x_2,\\ldots,x_n\\right\\}$ は $x_i\\in\\mathbb{R}^{d}$ からの確率ベクトルとする:\n",
        "<!-- Let $X=\\left\\{x_1,x_2,\\ldots,x_n\\right\\}$ be a random vector with observation $x_i\\in\\mathbb{R}^{d}$. -->\n",
        "\n",
        "1. Compute the mean $\\mu$\n",
        "$$\\tag{1}\n",
        "\\mu=\\frac{1}{n}\\sum_{i=1}^{n}x_i.\n",
        "$$\n",
        "2. Compute the Covariance matrix $C$\n",
        "$$\\tag{2}\n",
        "C=\\frac{1}{n}\\sum_{i=1}^{n}(x_i-\\mu)(x_i-\\mu)^{\\top}.\n",
        "$$\n",
        "3. Compute the eigenvalues $\\lambda_i$ and eigenvectors $\\nu_i$ of $C$\n",
        "$$\\tag{3}\n",
        "C\\nu_i=\\lambda_i\\nu_i, \\text{\\hspace{1cm} $i=1,2,\\ldots,n$}\n",
        "$$\n",
        "4. Order the eigenvalues descending by their eigenvalue.\n",
        "The $k$ principla components are the eigenvectors corresponding to the $k$ largest eigenvalues.\n",
        "\n",
        "観測ベクトル $x$ の $k$ 個の主成分は次式で与えられる：<!-- The k principal components of the observed vector $x$ are then given by: -->\n",
        "\n",
        "$$\\tag{4}\n",
        "y = W^{\\top}(x-\\mu),\n",
        "$$\n",
        "\n",
        "ここで $W=\\left(v_1,v_2,\\ldots,v_k\\right)$.\n",
        "<!--where $W=left(v_1,v_2,\\ldots,v_k\\right)$.-->\n",
        "PCA 基底からの再構成は次式:<!--The reconstruction from the PCA basis is given by:-->\n",
        "$$\\tag{5}\n",
        "x= Wy + \\mu.\n",
        "$$\n",
        "そして固有顔法は、次のようにして顔認識を行う：<!-- The Eigenfaces method then performs face recognition by: -->\n",
        "1. すべての訓練サンプルを PCA の部分空間に射影する  (式 (4) )。\n",
        "2. クエリ画像を PCA 部分空間に射影する (リスト 5 を使用)。\n",
        "3. 投影された訓練サンプルと投影されたクエリ画像の間の最近傍を見つける。\n",
        "\n",
        "<!-- 1. Projecting all training samples into the PCA subspace (using Equation 4).\n",
        "2. Projecting the query image into the PCA subspace (using Listing 5).\n",
        "3. Finding the nearest neighbor between the projected training samples and the projected query image. -->\n",
        "\n",
        "まだ、解決しなければならない問題が 1 つ残っている。\n",
        "100x100 画素の画像が 400 枚与えられたとする。\n",
        "主成分分析（PCA）は共分散行列 $C=XX^{\\top}$ を解くが、この例では size(X)=$10000\\times400$ である。\n",
        "結局 10000x10000 の行列になり、ざっと 0.8GB になる。\n",
        "この問題を解くのは現実的ではないので、トリックを適用する必要がある。\n",
        "線形代数の授業で、$M>N$ の $M\\times N$ 行列は $N-1$ 個の非ゼロ固有値しか持てないことを知っているだろう。\n",
        "そこで、代わりにサイズ $N\\times N$ の固有値分解 $S=X^{\\top}X$ を取ることができる：\n",
        "<!-- Still there is one problem left to solve.\n",
        "Imagin we are given 400 images sized 100x100 pixels.\n",
        "The Principal Component Analysis (PCA) solves the covariance matrix $C=XX^{\\top}$, where size(X)=10000X400 in our example.\n",
        "You would end up with a 10000x10000 matrix, rougly 0.8GB.\n",
        "Solving this  problem is not feasible, so we will need to apply a trick.\n",
        "From your linear algebra lessons you know that a MxN matrix with M>N can only have N-1 non-zero eigenvalues.\n",
        "So it is possible to take the eigenvalue decompostion $S=X^{\\top}X$ of size NxN instead: -->"
      ]
    },
    {
      "cell_type": "code",
      "source": [
        "def LDA(X, y, num_comp=0):\n",
        "    \"\"\"線形判別分析 LDA: Linear Discriminant Analysis\n",
        "        X: データ行列\n",
        "        y: X の各行に対応する群ラベルを格納した numpy.array リスト\n",
        "    \"\"\"\n",
        "    #y = np.asarray(y)\n",
        "    [n,d] = X.shape         # データ行列の 行:n と 列:d を求める\n",
        "    n_class = np.unique(y)  # データに含まれる群の数\n",
        "    if (num_comp <= 0) or (num_comp > (len(n_class)-1)):\n",
        "        num_comp = (len(n_class)-1)\n",
        "\n",
        "    Total_mean = X.mean(axis=0)             # 全平均の計算\n",
        "    Sw = np.zeros((d,d), dtype=np.float32)  # 群内分散保存用\n",
        "    Sb = np.zeros((d,d), dtype=np.float32)  # 群間分散保存用\n",
        "    for i in n_class:                       # 各群について繰り返す\n",
        "        Xi = X[np.where(y==i)[0],:]\n",
        "        G_mean = Xi.mean(axis=0)                                             # 群平均\n",
        "        Sw = Sw + np.dot((Xi - G_mean).T, (Xi - G_mean))                     # 群内分散\n",
        "        Sb = Sb + n * np.dot((G_mean - Total_mean).T, (G_mean - Total_mean)) # 群間分散\n",
        "    Eigenvalues, Eigenvectors = np.linalg.eig(np.linalg.inv(Sw) * Sb)\n",
        "    idx = np.argsort(-Eigenvalues.real)\n",
        "    Eigenvalues, Eigenvectors = Eigenvalues[idx], Eigenvectors[:,idx]\n",
        "    Eigenvalues = np.array(Eigenvalues[0:num_comp].real, dtype=np.float32, copy=True)\n",
        "    Eigenvectors = np.array(Eigenvectors[0:,0:num_comp].real, dtype=np.float32, copy=True)\n",
        "    return Eigenvalues, Eigenvectors\n",
        "\n",
        "\n",
        "def Fisherfaces(X,y,num_comp=0):\n",
        "    #y = np.asarray(y)\n",
        "    [n,d] = X.shape\n",
        "    n_class = len(np.unique(y))\n",
        "    #[Eigenvalues_pca, Eigenvectors_pca, mu_pca] = pca(X, y, (n-n_class))\n",
        "    Eigenvalues_pca, Eigenvectors_pca, mu_pca = _PCA.Eigenvalues, _PCA.Eigenvectors, _PCA.mean\n",
        "    #[Eigenvalues_lda, Eigenvectors_lda] = LDA(project(Eigenvectors_pca, X, mu_pca), y, num_comp)\n",
        "    Eigenvalues_lda, Eigenvectors_lda = LDA(_PCA.projections, y, num_comp)\n",
        "    Eigenvectors = np.dot(Eigenvectors_pca, Eigenvectors_lda)\n",
        "    return Eigenvalues_lda, Eigenvectors #, mu_pca\n",
        "\n",
        "Fisher_Eignevalues, Fisher_Eigenvectors = Fisherfaces(X,y)"
      ],
      "metadata": {
        "id": "qxf4e2iNb7Kp"
      },
      "id": "qxf4e2iNb7Kp",
      "execution_count": null,
      "outputs": []
    },
    {
      "cell_type": "markdown",
      "source": [
        "## フィッシャー顔固有ベクトルの視覚化"
      ],
      "metadata": {
        "id": "49KNaJr6b-Gu"
      },
      "id": "49KNaJr6b-Gu"
    },
    {
      "cell_type": "code",
      "source": [
        "# help(np.set_printoptions)\n",
        "N_pca = 10\n",
        "fix, axes = plt.subplots(nrows=1, ncols=N_pca, figsize=(N_pca * 1.4, 1.4))\n",
        "for i in range(N_pca):\n",
        "    axes[i].imshow(Fisher_Eigenvectors[:,i].reshape(64,64), cmap=\"gray\")\n",
        "    axes[i].set_title(f'第 {i+1} 固有値に対応\\nする固有ベクトル', size=7)\n",
        "    axes[i].axis('off')\n",
        "\n",
        "plt.show()"
      ],
      "metadata": {
        "id": "GbjuPPF2cAHS"
      },
      "id": "GbjuPPF2cAHS",
      "execution_count": null,
      "outputs": []
    },
    {
      "cell_type": "code",
      "source": [
        "Fisher_projections = _PCA._X @ Fisher_Eigenvectors\n",
        "Fisher_reconstruct = Fisher_projections @ Fisher_Eigenvectors.T + _PCA.mean\n",
        "print(Fisher_reconstruct.shape, Fisher_projections.shape)"
      ],
      "metadata": {
        "id": "xk4VsFCVcB8B"
      },
      "id": "xk4VsFCVcB8B",
      "execution_count": null,
      "outputs": []
    },
    {
      "cell_type": "code",
      "source": [
        "# 固有顔 (PCA) を用いて 40 名の顔認識データをもちいて 3 手法を比較\n",
        "X_train, X_test, y_train, y_test=train_test_split(Fisher_projections, y, test_size=split_ratio, stratify=y, random_state=42)\n",
        "#X_train, X_test, y_train, y_test=train_test_split(_PCA.projections, y_sex, test_size=split_ratio, stratify=y, random_state=42)\n",
        "\n",
        "# 共通パラメータ\n",
        "params = {'max_iter':10 ** 4,\n",
        "          #'C':1e3,\n",
        "          #'penalty':'l2'\n",
        "         }\n",
        "\n",
        "# 3 つのモデルの定義\n",
        "svc_model = SVC(**params)\n",
        "logistic_model = LogisticRegression(**params)\n",
        "lda_model = LinearDiscriminantAnalysis()\n",
        "\n",
        "# 出力する図のサイズを定義\n",
        "fig, _axes = plt.subplots(ncols=3, nrows=1, figsize=(12,4), constrained_layout=True)\n",
        "\n",
        "# 3 つのモデルをそれぞれ実行して結果を描画\n",
        "for i, (model_name, model) in enumerate([('サポートベクタマシン',svc_model),\n",
        "                                         ('ロジスティック回帰',logistic_model),\n",
        "                                         ('線形判別分析',lda_model)]):\n",
        "    model.fit(X_train, y_train)\n",
        "\n",
        "    y_hat = model.predict(X_test)  # テストデータを使って予測を行い結果を y_hat に格納\n",
        "\n",
        "    _axes[i].imshow(metrics.confusion_matrix(y_test,y_hat), cmap='gray')\n",
        "    _axes[i].set_title(f'{model_name}:分類精度:{metrics.accuracy_score(y_test,y_hat):.2f}')\n",
        "    _axes[i].axis('off')\n",
        "\n",
        "    # print(model_name, '\\n', metrics.confusion_matrix(y_test,y_hat))\n",
        "    # print(model_name, '\\n', metrics.classification_report(y_test,y_hat))\n",
        "\n",
        "plt.show()"
      ],
      "metadata": {
        "id": "BzdPZLZEcFA3"
      },
      "id": "BzdPZLZEcFA3",
      "execution_count": null,
      "outputs": []
    },
    {
      "cell_type": "code",
      "source": [
        "Fisher_reconstruct.shape\n",
        "plt.figure(figsize=(2.5,2.5))\n",
        "plt.imshow(Fisher_reconstruct[-1].reshape(64,64), cmap='gray')\n",
        "plt.title(f'フィッシャー顔 再構成')\n",
        "plt.show()"
      ],
      "metadata": {
        "id": "e03kLjQfcIcL"
      },
      "id": "e03kLjQfcIcL",
      "execution_count": null,
      "outputs": []
    },
    {
      "cell_type": "code",
      "source": [
        "# PCA による次元圧縮の結果を表示\n",
        "\n",
        "XX = Fisher_projections\n",
        "XX = Fisher_reconstruct\n",
        "\n",
        "fig, axes = plt.subplots(ncols=3, nrows=1, figsize=(14,4))\n",
        "axes[0].scatter(XX[:,0], XX[:,1], s=1)\n",
        "axes[0].set_xlabel('第 1 主成分')\n",
        "axes[0].set_ylabel('第 2 主成分')\n",
        "for i in range(XX.shape[0]):\n",
        "    axes[0].annotate(str(y[i]), (XX[i,0], XX[i,1]))\n",
        "\n",
        "axes[1].scatter(XX[:,1], XX[:,2], s=1)\n",
        "axes[1].set_xlabel('第 2 主成分')\n",
        "axes[1].set_ylabel('第 3 主成分')\n",
        "for i in range(XX.shape[0]):\n",
        "    axes[1].annotate(str(y[i]), (XX[i,1], XX[i,2]))\n",
        "\n",
        "axes[2].scatter(XX[:,0], XX[:,3], s=1)\n",
        "axes[2].set_xlabel('第 1 主成分')\n",
        "axes[2].set_ylabel('第 4 主成分')\n",
        "for i in range(XX.shape[0]):\n",
        "    axes[2].annotate(str(y[i]), (XX[i,0], XX[i,3]))\n",
        "\n",
        "plt.show()"
      ],
      "metadata": {
        "id": "yJ8z9kxHcMOE"
      },
      "id": "yJ8z9kxHcMOE",
      "execution_count": null,
      "outputs": []
    }
  ],
  "metadata": {
    "kernelspec": {
      "display_name": "base",
      "language": "python",
      "name": "python3"
    },
    "language_info": {
      "codemirror_mode": {
        "name": "ipython",
        "version": 3
      },
      "file_extension": ".py",
      "mimetype": "text/x-python",
      "name": "python",
      "nbconvert_exporter": "python",
      "pygments_lexer": "ipython3",
      "version": "3.12.7"
    },
    "colab": {
      "provenance": [],
      "toc_visible": true,
      "include_colab_link": true
    }
  },
  "nbformat": 4,
  "nbformat_minor": 5
}