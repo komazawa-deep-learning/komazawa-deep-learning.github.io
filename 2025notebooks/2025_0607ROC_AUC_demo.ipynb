{
  "nbformat": 4,
  "nbformat_minor": 0,
  "metadata": {
    "colab": {
      "private_outputs": true,
      "provenance": [],
      "authorship_tag": "ABX9TyNfzzV+Mu4cEcv7NyNxZ+Dz",
      "include_colab_link": true
    },
    "kernelspec": {
      "name": "python3",
      "display_name": "Python 3"
    },
    "language_info": {
      "name": "python"
    }
  },
  "cells": [
    {
      "cell_type": "markdown",
      "metadata": {
        "id": "view-in-github",
        "colab_type": "text"
      },
      "source": [
        "<a href=\"https://colab.research.google.com/github/komazawa-deep-learning/komazawa-deep-learning.github.io/blob/master/2025notebooks/2025_0607ROC_AUC_demo.ipynb\" target=\"_parent\"><img src=\"https://colab.research.google.com/assets/colab-badge.svg\" alt=\"Open In Colab\"/></a>"
      ]
    },
    {
      "cell_type": "markdown",
      "source": [
        "# ROC, AUC 曲線実習\n",
        "\n",
        "- author: 浅川伸一\n",
        "- date: 2025_0607\n"
      ],
      "metadata": {
        "id": "CRCF0S0kPi-u"
      }
    },
    {
      "cell_type": "code",
      "execution_count": null,
      "metadata": {
        "id": "VFiJgUrpPZaq"
      },
      "outputs": [],
      "source": [
        "# https://www.geeksforgeeks.org/how-to-plot-roc-curve-in-python/\n",
        "import matplotlib.pyplot as plt\n",
        "#from sklearn.datasets import load_breast_cancer\n",
        "from sklearn.datasets import load_iris\n",
        "from sklearn.model_selection import train_test_split\n",
        "from sklearn.linear_model import LogisticRegression\n",
        "from sklearn.metrics import roc_curve, auc\n",
        "\n",
        "try:\n",
        "    import japanize_matplotlib\n",
        "except ImportError:\n",
        "    !pip install japanize_matplotlib\n",
        "    import japanize_matplotlib"
      ]
    },
    {
      "cell_type": "code",
      "source": [
        "from sklearn.decomposition import PCA\n",
        "pca = PCA(n_components='mle')\n",
        "pca.fit(load_iris().data)\n",
        "print(pca.explained_variance_ratio_)\n",
        "print(pca.singular_values_)\n",
        "\n",
        "y = pca.transform(load_iris().data)\n",
        "print(f'y.shape:{y.shape}')\n",
        "\n",
        "plt.scatter(y[:,0], y[:,1])\n",
        "for i, x in enumerate(load_iris().target):\n",
        "    plt.annotate(load_iris().target_names[x], (y[i,0], y[i,1]))\n",
        "plt.show()\n",
        "print(load_iris().target_names)"
      ],
      "metadata": {
        "id": "dXMTpASAPZ98"
      },
      "execution_count": null,
      "outputs": []
    },
    {
      "cell_type": "code",
      "source": [
        "# 上の PCA 結果から versicolor を判別するのが難しそうである。\n",
        "# なので 3 種のアヤメの中から versicolor を 1 とし 他 2 種類を 0 とする教師信号を作成する\n",
        "tgt_virgicolor = [1 if tgt == 1 else 0 for tgt in load_iris().target]\n",
        "\n",
        "# 3 種のアヤメの中から virginica を 1 とし 他 2 種類を 0 とする教師信号を作成する\n",
        "tgt_virginica = [1 if tgt == 2 else 0 for tgt in load_iris().target]\n",
        "\n",
        "# 3 種のアヤメの中から setosa を 1 とし 他 2 種類を 0 とする教師信号を作成する\n",
        "tgt_setosa = [1 if tgt == 0 else 0 for tgt in load_iris().target]\n",
        "\n",
        "X = load_iris().data\n",
        "\n",
        "_target = [0 if __y == 1 else 1 for __y in _y]\n",
        "X_train, X_test, y_train, y_test = train_test_split(X, tgt_virgicolor, test_size=0.25, random_state=42)\n",
        "#X_train, X_test, y_train, y_test = train_test_split(X, tgt_virginica, test_size=0.25, random_state=42)\n",
        "#X_train, X_test, y_train, y_test = train_test_split(X, tgt_setosa, test_size=0.25, random_state=42)\n",
        "\n",
        "# Train a logistic regression model\n",
        "model = LogisticRegression(max_iter=10000)\n",
        "model.fit(X_train, y_train)\n",
        "\n",
        "# Predict probabilities on the test set\n",
        "y_pred_proba = model.predict_proba(X_test)[:, 1]"
      ],
      "metadata": {
        "id": "jXUUhKyYPeGd"
      },
      "execution_count": null,
      "outputs": []
    },
    {
      "cell_type": "code",
      "source": [
        "# Calculate ROC curve\n",
        "fpr, tpr, thresholds = roc_curve(y_test, y_pred_proba)\n",
        "roc_auc = auc(fpr, tpr)\n",
        "\n",
        "# Plot the ROC curve\n",
        "plt.figure()\n",
        "plt.plot(fpr, tpr, label='ROC 曲線 (area = %0.2f)' % roc_auc)\n",
        "plt.plot([0, 1], [0, 1], 'k--', label='No Skill')\n",
        "plt.xlim([0.0, 1.0])\n",
        "plt.ylim([0.0, 1.05])\n",
        "plt.xlabel('儀陽性率 FPR')\n",
        "plt.ylabel('真陽性率 TPR')\n",
        "plt.title('ROC 曲線')\n",
        "plt.legend()\n",
        "plt.show()"
      ],
      "metadata": {
        "id": "JV5C-AXnPghw"
      },
      "execution_count": null,
      "outputs": []
    }
  ]
}