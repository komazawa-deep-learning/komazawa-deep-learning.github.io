{
  "cells": [
    {
      "cell_type": "markdown",
      "metadata": {
        "id": "view-in-github",
        "colab_type": "text"
      },
      "source": [
        "<a href=\"https://colab.research.google.com/github/komazawa-deep-learning/komazawa-deep-learning.github.io/blob/master/2025notebooks/2025_0604ROC_AUC_demo.ipynb\" target=\"_parent\"><img src=\"https://colab.research.google.com/assets/colab-badge.svg\" alt=\"Open In Colab\"/></a>"
      ]
    },
    {
      "cell_type": "markdown",
      "id": "1aaee3fc-8227-4e2d-9af5-b07610a81507",
      "metadata": {
        "id": "1aaee3fc-8227-4e2d-9af5-b07610a81507"
      },
      "source": [
        "# ROC, AUC 曲線実習"
      ]
    },
    {
      "cell_type": "markdown",
      "source": [
        "* sepal (萼片 がくべん)： 花の外側の部分 (多くの場合緑色で葉のようなもの) で発達中の蕾を包む。\n",
        "* petal (花弁，花びら)：花の外側の部分で，しばしば目立つ色をしている。\n",
        "\n",
        "<img src=\"https://dictionary.goo.ne.jp/img/daijisen/ref/113205.jpg\"><br/>\n",
        "Goo 国語辞典より\n",
        "\n"
      ],
      "metadata": {
        "id": "ZDvKFfGcibOd"
      },
      "id": "ZDvKFfGcibOd"
    },
    {
      "cell_type": "markdown",
      "source": [
        "# HAD データの取得\n"
      ],
      "metadata": {
        "id": "rnqf52n2imwg"
      },
      "id": "rnqf52n2imwg"
    },
    {
      "cell_type": "code",
      "source": [
        "# HAD データの取得\n",
        "\n",
        "import IPython\n",
        "isColab = 'google.colab' in str(IPython.get_ipython())\n",
        "if isColab:\n",
        "    !pip install --upgrade xlrd\n",
        "    !pip install --upgrade pandas\n",
        "\n",
        "import os\n",
        "import pandas as pd\n",
        "had_fname = 'HAD_sample_data.xls'\n",
        "if not os.path.exists(had_fname):\n",
        "    # HAD サンプルデータをダウンロード\n",
        "    !wget 'https://files.au-1.osf.io/v1/resources/32cyp/providers/osfstorage/5fb340145502ac018d8c86ab/?zip=' -O had.zip\n",
        "    !unzip had.zip\n",
        "\n",
        "# HAD のサンプルデータ読み込み\n",
        "df = pd.read_excel('HAD_sample_data.xls', sheet_name=\"iris\", index_col='ID')\n",
        "df"
      ],
      "metadata": {
        "id": "p88nw_QIikuz"
      },
      "id": "p88nw_QIikuz",
      "execution_count": null,
      "outputs": []
    },
    {
      "cell_type": "code",
      "source": [
        "# 上のセルが時間がかかる場合には scikit-learn のデータを使用\n",
        "from sklearn.datasets import load_iris\n",
        "\n",
        "df = pd.DataFrame(np.concat((np.array(load_iris().target).reshape(-1,1), np.array(load_iris().data)), axis=1),  columns=['Spices', 'Sepal.L','Sepal.W',\t'Petal.L','Petal.W'])\n",
        "#df = pd.DataFrame([load_iris().target, load_iris().data], columns=['Spices', 'Sepal.L','Sepal.W',\t'Petal.L','Petal.W'])\n",
        "#df['Spices'] = load_iris().target\n",
        "df #type(load_iris().frame)"
      ],
      "metadata": {
        "id": "WAo0iiddjfYh"
      },
      "id": "WAo0iiddjfYh",
      "execution_count": null,
      "outputs": []
    },
    {
      "cell_type": "code",
      "source": [
        "print(load_iris().DESCR)"
      ],
      "metadata": {
        "id": "zMWs4K4ImFQ8"
      },
      "id": "zMWs4K4ImFQ8",
      "execution_count": null,
      "outputs": []
    },
    {
      "cell_type": "code",
      "execution_count": 39,
      "id": "c071abd8-9d23-49a4-a6f6-cfb56e2cc0da",
      "metadata": {
        "id": "c071abd8-9d23-49a4-a6f6-cfb56e2cc0da"
      },
      "outputs": [],
      "source": [
        "%matplotlib inline\n",
        "# https://www.geeksforgeeks.org/how-to-plot-roc-curve-in-python/\n",
        "import matplotlib.pyplot as plt\n",
        "from sklearn.model_selection import train_test_split\n",
        "from sklearn.linear_model import LogisticRegression\n",
        "from sklearn.metrics import roc_curve, auc\n",
        "\n",
        "try:\n",
        "    import japanize_matplotlib\n",
        "except ImportError:\n",
        "    !pip install japanize_matplotlib\n",
        "    import japanize_matplotlib"
      ]
    },
    {
      "cell_type": "code",
      "execution_count": null,
      "id": "324f860a-02cd-489a-bb55-98be6a90d097",
      "metadata": {
        "scrolled": true,
        "id": "324f860a-02cd-489a-bb55-98be6a90d097"
      },
      "outputs": [],
      "source": [
        "from sklearn.decomposition import PCA\n",
        "pca = PCA(n_components='mle')\n",
        "pca.fit(load_iris().data)\n",
        "print(pca.explained_variance_ratio_)\n",
        "print(pca.singular_values_)\n",
        "\n",
        "y = pca.transform(load_iris().data)\n",
        "print(f'y.shape:{y.shape}')\n",
        "\n",
        "plt.figure(figsize=(10,10))\n",
        "plt.scatter(y[:,0], y[:,1], s=1)\n",
        "for i, x in enumerate(load_iris().target):\n",
        "    plt.annotate(load_iris().target_names[x], (y[i,0], y[i,1]), fontsize=10)\n",
        "plt.show()\n",
        "print(load_iris().target_names)"
      ]
    },
    {
      "cell_type": "code",
      "execution_count": 41,
      "id": "1658b204-1499-4a2f-9e13-361eb2b73f74",
      "metadata": {
        "id": "1658b204-1499-4a2f-9e13-361eb2b73f74"
      },
      "outputs": [],
      "source": [
        "# 上の PCA 結果から versicolor を判別するのが難しそうである。\n",
        "# なので 3 種のアヤメの中から versicolor を 1 とし 他 2 種類を 0 とする教師信号を作成する\n",
        "tgt_virgicolor = [1 if tgt == 1 else 0 for tgt in load_iris().target]\n",
        "\n",
        "# 3 種のアヤメの中から virginica を 1 とし 他 2 種類を 0 とする教師信号を作成する\n",
        "tgt_virginica = [1 if tgt == 2 else 0 for tgt in load_iris().target]\n",
        "\n",
        "# 3 種のアヤメの中から setosa を 1 とし 他 2 種類を 0 とする教師信号を作成する\n",
        "tgt_setosa = [1 if tgt == 0 else 0 for tgt in load_iris().target]\n",
        "\n",
        "X = load_iris().data\n",
        "\n",
        "X_train, X_test, y_train, y_test = train_test_split(X, tgt_virgicolor, test_size=0.25, random_state=42)\n",
        "#X_train, X_test, y_train, y_test = train_test_split(X, tgt_virginica, test_size=0.25, random_state=42)\n",
        "#X_train, X_test, y_train, y_test = train_test_split(X, tgt_setosa, test_size=0.25, random_state=42)\n",
        "\n",
        "# Train a logistic regression model\n",
        "model = LogisticRegression(max_iter=10000)\n",
        "model.fit(X_train, y_train)\n",
        "\n",
        "# Predict probabilities on the test set\n",
        "y_pred_proba = model.predict_proba(X_test)[:, 1]"
      ]
    },
    {
      "cell_type": "code",
      "execution_count": null,
      "id": "a68eaf7c-2408-461e-9981-f1401dcc1bc7",
      "metadata": {
        "id": "a68eaf7c-2408-461e-9981-f1401dcc1bc7"
      },
      "outputs": [],
      "source": [
        "# Calculate ROC curve\n",
        "fpr, tpr, thresholds = roc_curve(y_test, y_pred_proba)\n",
        "roc_auc = auc(fpr, tpr)\n",
        "\n",
        "# Plot the ROC curve\n",
        "plt.figure(figsize=(6,6))\n",
        "plt.plot(fpr, tpr, label='ROC 曲線 (area = %0.2f)' % roc_auc)\n",
        "plt.plot([0, 1], [0, 1], 'k--', label='No Skill')\n",
        "plt.xlim([0.0, 1.0])\n",
        "plt.ylim([0.0, 1.05])\n",
        "plt.xlabel('儀陽性率 FPR')\n",
        "plt.ylabel('真陽性率 TPR')\n",
        "plt.title('ROC 曲線')\n",
        "plt.legend()\n",
        "plt.show()"
      ]
    },
    {
      "cell_type": "code",
      "execution_count": null,
      "id": "35a1a9ce-f864-407b-b671-e1d0ec26ea5e",
      "metadata": {
        "id": "35a1a9ce-f864-407b-b671-e1d0ec26ea5e"
      },
      "outputs": [],
      "source": [
        "from sklearn.datasets import make_classification\n",
        "from sklearn.linear_model import LogisticRegression\n",
        "from sklearn.ensemble import RandomForestClassifier\n",
        "import pandas as pd\n",
        "\n",
        "\n",
        "# データの生成と分割\n",
        "# `make_classification` を使って 80 対 20 の分割比率を用いて、20 次元の特徴を持つ人工的な 2 値分類データを作成\n",
        "# このデータを訓練データセットと検証データセットに分割し、再現性を確保するために乱数の種を割り当てる。\n",
        "X, y = make_classification(\n",
        "    n_samples=1000, n_features=20, n_classes=2, random_state=42)\n",
        "\n",
        "X_train, X_test, y_train, y_test = train_test_split(\n",
        "    X, y, test_size=0.2, random_state=42)\n",
        "\n",
        "# ランダム・フォレスト・モデルとロジスティック回帰モデルを訓練する\n",
        "# コードを実行するたびに同じ結果が得られるように、固定のランダム・シードを使用。\n",
        "\n",
        "# 訓練データを使ってロジスティック回帰モデルを訓練\n",
        "logistic_model = LogisticRegression(random_state=42)\n",
        "logistic_model.fit(X_train, y_train)\n",
        "\n",
        "# 同じ訓練データとランダムシードを用いて、100本の木を持つランダムフォレスト・モデルを訓練する。\n",
        "random_forest_model = RandomForestClassifier(n_estimators=100, random_state=42)\n",
        "random_forest_model.fit(X_train, y_train)"
      ]
    },
    {
      "cell_type": "code",
      "execution_count": 44,
      "id": "8f8600f7-c14a-492d-9c8b-e302c15bf449",
      "metadata": {
        "id": "8f8600f7-c14a-492d-9c8b-e302c15bf449"
      },
      "outputs": [],
      "source": [
        "# 検査データと訓練されたロジスティック回帰モデルを用いて、正のクラスの確率を予測。\n",
        "y_pred_logistic = logistic_model.predict_proba(X_test)[:, 1]\n",
        "\n",
        "# 同様に検査データを使い、訓練されたランダム・フォレスト・モデルを使って、正のクラスの予測確率を生成する。\n",
        "y_pred_rf = random_forest_model.predict_proba(X_test)[:, 1]"
      ]
    },
    {
      "cell_type": "code",
      "execution_count": null,
      "id": "52f102fa-54d2-4caa-8853-e2b616892d56",
      "metadata": {
        "id": "52f102fa-54d2-4caa-8853-e2b616892d56"
      },
      "outputs": [],
      "source": [
        "# テストデータを使って、「True」、『Logistic』、「RandomForest 」というラベルの付いた列を持つ test_df という DataFrame を作成\n",
        "# 真のラベルとランダムフォレストとロジスティック回帰モデルからの予測確率を追加する。\n",
        "test_df = pd.DataFrame(\n",
        "    {'True': y_test, 'Logistic': y_pred_logistic, 'RandomForest': y_pred_rf})\n",
        "\n",
        "# モデルの ROC 曲線をプロット\n",
        "plt.figure(figsize=(7, 7))\n",
        "\n",
        "for model in ['Logistic', 'RandomForest']:\n",
        "    fpr, tpr, _ = roc_curve(test_df['True'], test_df[model])\n",
        "    roc_auc = auc(fpr, tpr)\n",
        "    plt.plot(fpr, tpr, label=f'{model} (AUC = {roc_auc:.2f})')\n",
        "\n",
        "plt.plot([0, 1], [0, 1], 'r--', label='Random Guess')\n",
        "\n",
        "plt.xlabel('False Positive Rate')\n",
        "plt.ylabel('True Positive Rate')\n",
        "plt.title('ROC Curves for Two Models')\n",
        "plt.legend()\n",
        "plt.show()"
      ]
    },
    {
      "cell_type": "markdown",
      "id": "ad3925fc-09ee-4841-bfea-db71c3e2320a",
      "metadata": {
        "id": "ad3925fc-09ee-4841-bfea-db71c3e2320a"
      },
      "source": [
        "ランダム・フォレストとロジスティック回帰の AUC と ROC 曲線を計算し、ROC 曲線をプロットする。\n",
        "ランダム推測の ROC 曲線も赤い破線で表現され、可視化のためにラベル、タイトル、凡例が設定される。\n",
        "<!-- The plot computes the AUC and ROC curve for each model i.e Random Forest and Logistic Regression, then plots the ROC curve. The ROC curve for random guessing is also represented by a red dashed line, and labels, a title, and a legend are set for visualization.-->\n",
        "\n",
        "多クラスモデルの ROC-AUC\n",
        "複数クラス・モデルの場合、単純に1対すべての手法を使用することができ、各クラスについて1つのROC曲線が得られる。たとえば、A、B、C、Dの4つのクラスがあるとすると、4つのクラスすべてにROC曲線とそれに対応するAUC値が存在することになる。\n",
        "<!-- ROC-AUC for a Multi-Class Model\n",
        "For a multi-class model we can simply use one vs all methodology and you will have one ROC curve for each class. Let's say you have four classes A, B, C and D then there would be ROC curves and corresponding AUC values for all the four classes i.e once A would be one class and B, C and D combined would be the others class similarly B is one class and A, C and D combined as others class. -->\n",
        "\n",
        "多クラス分類モデルの文脈でAUC-ROCを使用する一般的な手順は、次のとおりである：\n",
        "<!-- The general steps for using AUC-ROC in the context of a multiclass classification model are: -->\n",
        "\n",
        "**1 対全の手法**<br/>\n",
        "* 多クラス問題の各クラスについて，それを正クラスとして扱い，他のすべてのクラスを負クラスに結合する．\n",
        "* 残りのクラスに対して，各クラスのバイナリ分類器を訓練する．\n",
        "\n",
        "**各クラスの AUC-ROC を計算**<br/>\n",
        "* ここで，残りのクラスに対する任意のクラスのROC曲線をプロットする．\n",
        "* 各クラスの ROC 曲線を同じグラフ上にプロットする．各曲線は、特定のクラスに対するモデルの識別性能を表す。\n",
        "* 各クラスの AUC スコアを調べる．AUC スコアが高いほど、その特定のクラスについて識別性が高いことを示す。\n",
        "\n",
        "多クラス分類での AUC-ROC の実装を見よう\n",
        "\n",
        "<!-- One-vs-All Methodology:\n",
        "For each class in your multiclass problem treat it as the positive class while combining all other classes into the negative class.\n",
        "Train the binary classifier for each class against the rest of the classes.\n",
        "Calculate AUC-ROC for Each Class:\n",
        "Here we plot the ROC curve for the given class against the rest.\n",
        "Plot the ROC curves for each class on the same graph. Each curve represents the discrimination performance of the model for a specific class.\n",
        "Examine the AUC scores for each class. A higher AUC score indicates better discrimination for that particular class.\n",
        "Lets see Implementation of AUC-ROC in Multiclass Classification -->\n"
      ]
    },
    {
      "cell_type": "code",
      "execution_count": null,
      "id": "bb67fe68-a66c-4cbe-9975-dbf94632f75b",
      "metadata": {
        "scrolled": true,
        "id": "bb67fe68-a66c-4cbe-9975-dbf94632f75b"
      },
      "outputs": [],
      "source": [
        "import numpy as np\n",
        "import matplotlib.pyplot as plt\n",
        "from sklearn.datasets import make_classification\n",
        "from sklearn.model_selection import train_test_split\n",
        "from sklearn.preprocessing import label_binarize\n",
        "from sklearn.multiclass import OneVsRestClassifier\n",
        "from sklearn.linear_model import LogisticRegression\n",
        "from sklearn.ensemble import RandomForestClassifier\n",
        "from sklearn.metrics import roc_curve, auc\n",
        "from itertools import cycle\n",
        "\n",
        "X, y = make_classification(\n",
        "    n_samples=1000, n_features=20, n_classes=3, n_informative=10, random_state=42)\n",
        "\n",
        "y_bin = label_binarize(y, classes=np.unique(y))\n",
        "\n",
        "X_train, X_test, y_train, y_test = train_test_split(\n",
        "    X, y_bin, test_size=0.2, random_state=42)\n",
        "\n",
        "logistic_model = OneVsRestClassifier(LogisticRegression(random_state=42))\n",
        "logistic_model.fit(X_train, y_train)\n",
        "\n",
        "rf_model = OneVsRestClassifier(\n",
        "    RandomForestClassifier(n_estimators=100, random_state=42))\n",
        "rf_model.fit(X_train, y_train)"
      ]
    },
    {
      "cell_type": "code",
      "execution_count": null,
      "id": "17f27290-8e6e-4b26-8ebf-d2723dd93dfd",
      "metadata": {
        "scrolled": true,
        "id": "17f27290-8e6e-4b26-8ebf-d2723dd93dfd"
      },
      "outputs": [],
      "source": [
        "fpr = dict()\n",
        "tpr = dict()\n",
        "roc_auc = dict()\n",
        "\n",
        "models = [logistic_model, rf_model]\n",
        "\n",
        "plt.figure(figsize=(6, 5))\n",
        "colors = cycle(['aqua', 'darkorange'])\n",
        "\n",
        "for model, color in zip(models, colors):\n",
        "    for i in range(model.classes_.shape[0]):\n",
        "        fpr[i], tpr[i], _ = roc_curve(\n",
        "            y_test[:, i], model.predict_proba(X_test)[:, i])\n",
        "        roc_auc[i] = auc(fpr[i], tpr[i])\n",
        "        plt.plot(fpr[i], tpr[i], color=color, lw=2,\n",
        "                 label=f'{model.__class__.__name__} - Class {i} (AUC = {roc_auc[i]:.2f})')\n",
        "\n",
        "plt.plot([0, 1], [0, 1], 'k--', lw=2, label='Random Guess')\n",
        "\n",
        "plt.xlabel('False Positive Rate')\n",
        "plt.ylabel('True Positive Rate')\n",
        "plt.title('Multiclass ROC Curve with Logistic Regression and Random Forest')\n",
        "plt.legend(loc=\"lower right\")\n",
        "plt.show()"
      ]
    },
    {
      "cell_type": "code",
      "execution_count": null,
      "id": "3bb8c281-668b-4e79-af08-ae8647dcf857",
      "metadata": {
        "id": "3bb8c281-668b-4e79-af08-ae8647dcf857"
      },
      "outputs": [],
      "source": [
        "from sklearn.datasets import load_iris\n",
        "from sklearn.model_selection import train_test_split\n",
        "from sklearn.linear_model import LogisticRegression\n",
        "from scipy.stats import f_oneway\n",
        "\n",
        "#load_iris().data, load_iris().target\n",
        "print(load_iris().data[:,0])\n",
        "_setosa     = [True if x == 0 else False for x in load_iris().target]\n",
        "_vergicolor = [True if x == 1 else False for x in load_iris().target]\n",
        "_verginica  = [True if x == 2 else False for x in load_iris().target]\n",
        "_setosa_data = load_iris().data[_setosa,0]\n",
        "_vergicolor_data = load_iris().data[_vergicolor,0]\n",
        "_verginica_data = load_iris().data[_verginica,0]\n",
        "\n",
        "print(f'f_oneway(_setosa_data, _vergicolor_data, _verginica_data):{f_oneway(_setosa_data, _vergicolor_data, _verginica_data)}')\n",
        "\n",
        "F = f_oneway(_setosa_data, _vergicolor_data, _verginica_data)\n",
        "print(f'F.statistic:{F.statistic:.3f}')\n",
        "print(f'F.pvalue:{F.pvalue:.03f}')"
      ]
    },
    {
      "cell_type": "markdown",
      "id": "f1cb2025-ec03-4530-87d4-d508c9d10cb8",
      "metadata": {
        "id": "f1cb2025-ec03-4530-87d4-d508c9d10cb8"
      },
      "source": [
        "# Titanic 号生存者解析"
      ]
    },
    {
      "cell_type": "code",
      "execution_count": null,
      "id": "b125d3c7-5cec-422e-83cd-0b9c2dfd0b08",
      "metadata": {
        "id": "b125d3c7-5cec-422e-83cd-0b9c2dfd0b08"
      },
      "outputs": [],
      "source": [
        "from sklearn.datasets import fetch_openml\n",
        "\n",
        "titanic = fetch_openml(data_id=40945, as_frame=True)\n",
        "titanic.data"
      ]
    },
    {
      "cell_type": "code",
      "execution_count": 55,
      "id": "70411e1a-4e47-423c-9f58-92bd30f30af3",
      "metadata": {
        "id": "70411e1a-4e47-423c-9f58-92bd30f30af3"
      },
      "outputs": [],
      "source": [
        "from sklearn.ensemble import RandomForestClassifier\n",
        "classifier_rf = RandomForestClassifier(random_state=42, n_jobs=-1, max_depth=5,\n",
        "                                       n_estimators=100, oob_score=True)"
      ]
    },
    {
      "cell_type": "markdown",
      "id": "9d79051a-9809-4119-ae3c-1d7d0555d0df",
      "metadata": {
        "id": "9d79051a-9809-4119-ae3c-1d7d0555d0df"
      },
      "source": [
        "### 属性情報<!-- ### Attribute information  -->\n",
        "\n",
        "* 抽出したデータセットの変数は，pclass, survived, name, age, embarked, home.dest, room, ticket, boat, sex:\n",
        "* pclass:  乗客の階級 (1st, 2nd, 3rd) 社会経済階級の指標となる。\n",
        "* age: 年齢，端数のある幼児もいる。\n",
        "<!-- titanic2 のデータフレームには欠損データはなく，乗組員の記録も含まれているが，年齢は成人か子供かで二分されている。\n",
        "これらのデータは Saint Mary's University の Robert Dawson から E-mail で入手した。\n",
        "変数は pclass, age, sex, survived である。 -->\n",
        "<!-- これらのデータ・フレームは，Hmisc の多くの関数のデモンストレーションや，Design ライブラリを使ったバイナリー・ロジスティック回帰分析のデモンストレーションに有用である。\n",
        "詳細と参考文献は Simonoff, Jeffrey S (1997)を参照： 「\"Unusual epsisode\" and a second statistics course.  J Statistics Education, Vol.5 No.1. -->\n",
        "\n",
        "<!--The variables on our extracted dataset are pclass, survived, name, age, embarked, home.dest, room, ticket, boat, and sex. pclass refers to passenger class (1st, 2nd, 3rd), and is a proxy for socio-economic class.\n",
        "Age is in years, and some infants had fractional values.\n",
        "The titanic2 data frame has no missing data and includes records for the crew, but age is dichotomized at adult vs. child.\n",
        "These data were obtained from Robert Dawson, Saint Mary's University, E-mail.\n",
        "The variables are pclass, age, sex, survived.\n",
        "These data frames are useful for demonstrating many of the functions in Hmisc as well as demonstrating binary logistic regression analysis using the Design library.\n",
        "For more details and references see Simonoff, Jeffrey S (1997): The \"unusual episode\" and a second statistics course. J Statistics Education, Vol. 5 No. 1. -->\n",
        "\n",
        "\n",
        "* Passenger ID to identifiy the passenger, numerical feature (Passenger ID/Ticket Number).\n",
        "* Survived is our label, as we can see is a binary feature, 1 if survived and 0 otherwise.\n",
        "* Pclass is the Ticket class (1 = 1st (Upper), 2 = 2nd (Middle), 3 = 3rd (lower))\n",
        "* Age is the age in years\n",
        "\n",
        "* sibsp: 乗船した兄弟姉妹/配偶者の数\n",
        "* parch: 乗船した両親／子供の数\n",
        "\n",
        "<!-- * sibsp is the number of siblings/spouses aboard the Titanic\n",
        "* parch is the number of parents/children aboard the Titanic-->\n",
        "\n",
        "* ticket is the ticket number\n",
        "* fare is the Passenger fare\n",
        "* cabin is the cabin number\n",
        "* embarked means Port of Embarkation. C = Cherbourg, Q = Queenstown, S = Southampton\n",
        "\n",
        "<!-- https://github.com/Charlie5DH/Kaggle_Competitions/blob/master/Titanic_Machine_Learning_from_Disaster/titanic-disaster-cr.ipynb -->"
      ]
    },
    {
      "cell_type": "code",
      "execution_count": null,
      "id": "0ab8e7a1-5f2e-4a19-b8bd-0cc38a88885e",
      "metadata": {
        "id": "0ab8e7a1-5f2e-4a19-b8bd-0cc38a88885e"
      },
      "outputs": [],
      "source": [
        "t2 = titanic.frame.rename(\n",
        "    columns={'sex':'性別',\n",
        "             'sibsp':'同乗兄弟姉妹数',\n",
        "             'parch':'同乗両親子供数',\n",
        "             'embarked':'乗船地',\n",
        "             'pclass':'等級',\n",
        "             'survived':'生死',\n",
        "             'name':'氏名',\n",
        "             'age':'年齢',\n",
        "             'home.dest':'住所.目的地',\n",
        "             'ticket':'チケット番号',\n",
        "             'fare':'料金',\n",
        "             'cabin':'客室番号',\n",
        "             })\n",
        "t2 = t2.drop(columns=['boat','body','住所.目的地','チケット番号','氏名','客室番号'])\n",
        "\n",
        "t2['isFemale'] = [1 if x == 'female' else 0 for x in t2['性別']]\n",
        "#X = t2.drop(columns=['生死']).to_numpy()\n",
        "X = t2.drop(columns=['生死','性別','乗船地', '性別']).to_numpy()\n",
        "y = t2['生死'].to_numpy()\n",
        "print(X.shape, y.shape)\n",
        "t2"
      ]
    },
    {
      "cell_type": "code",
      "execution_count": 59,
      "id": "717946ac-efb6-4a41-8f62-6af9b4eedb02",
      "metadata": {
        "colab": {
          "base_uri": "https://localhost:8080/"
        },
        "id": "717946ac-efb6-4a41-8f62-6af9b4eedb02",
        "outputId": "161263ff-e5a0-4573-ada8-1e51270e3233"
      },
      "outputs": [
        {
          "output_type": "execute_result",
          "data": {
            "text/plain": [
              "((916, 6), (393, 6))"
            ]
          },
          "metadata": {},
          "execution_count": 59
        }
      ],
      "source": [
        "from sklearn.ensemble import RandomForestClassifier\n",
        "classifier_rf = RandomForestClassifier(random_state=42, n_jobs=-1, max_depth=5,\n",
        "                                       n_estimators=100, oob_score=True)\n",
        "\n",
        "# now lets split the data into train and test\n",
        "from sklearn.model_selection import train_test_split\n",
        "\n",
        "# Splitting the data into train and test\n",
        "X_train, X_test, y_train, y_test = train_test_split(X, y, train_size=0.7, random_state=42)\n",
        "X_train.shape, X_test.shape"
      ]
    },
    {
      "cell_type": "code",
      "execution_count": 60,
      "id": "95953c42-d95f-4e0b-a1d7-402881994b8b",
      "metadata": {
        "colab": {
          "base_uri": "https://localhost:8080/"
        },
        "id": "95953c42-d95f-4e0b-a1d7-402881994b8b",
        "outputId": "a4e747f1-f8b3-468c-9d1e-549aae33df54"
      },
      "outputs": [
        {
          "output_type": "stream",
          "name": "stdout",
          "text": [
            "CPU times: user 190 ms, sys: 23.3 ms, total: 213 ms\n",
            "Wall time: 188 ms\n"
          ]
        },
        {
          "output_type": "execute_result",
          "data": {
            "text/plain": [
              "0.8133187772925764"
            ]
          },
          "metadata": {},
          "execution_count": 60
        }
      ],
      "source": [
        "%%time\n",
        "classifier_rf.fit(X_train, y_train)\n",
        "\n",
        "# checking the oob score\n",
        "classifier_rf.oob_score_"
      ]
    },
    {
      "cell_type": "code",
      "execution_count": 61,
      "id": "a860850b-6211-4781-a3bc-82fd26585e2c",
      "metadata": {
        "id": "a860850b-6211-4781-a3bc-82fd26585e2c"
      },
      "outputs": [],
      "source": [
        "rf = RandomForestClassifier(random_state=42, n_jobs=-1)\n",
        "params = {\n",
        "    #'max_depth': [2,3,5,10,20],\n",
        "    'max_depth': [2,3,4],\n",
        "    #'min_samples_leaf': [5,10,20,50,100,200],\n",
        "    'min_samples_leaf': [5,10,20],\n",
        "    #'n_estimators': [10,25,30,50,100,200]\n",
        "    'n_estimators': [10,25]\n",
        "}\n",
        "\n",
        "from sklearn.model_selection import GridSearchCV\n",
        "# Instantiate the grid search model\n",
        "\n",
        "grid_search = GridSearchCV(estimator=rf,\n",
        "                           param_grid=params,\n",
        "                           cv = 4,\n",
        "                           n_jobs=-1, verbose=1, scoring=\"accuracy\")"
      ]
    },
    {
      "cell_type": "code",
      "execution_count": null,
      "id": "5170772e-d2d6-4511-a3cd-26ee7ad914c4",
      "metadata": {
        "id": "5170772e-d2d6-4511-a3cd-26ee7ad914c4"
      },
      "outputs": [],
      "source": [
        "%%time\n",
        "grid_search.fit(X_train, y_train)"
      ]
    },
    {
      "cell_type": "code",
      "execution_count": 63,
      "id": "0dc33b56-e79b-45fe-b0f5-37de9c6ecf86",
      "metadata": {
        "colab": {
          "base_uri": "https://localhost:8080/"
        },
        "id": "0dc33b56-e79b-45fe-b0f5-37de9c6ecf86",
        "outputId": "812dff3e-5dc2-4184-96f5-a4760bf42c0c"
      },
      "outputs": [
        {
          "output_type": "execute_result",
          "data": {
            "text/plain": [
              "np.float64(0.7903930131004366)"
            ]
          },
          "metadata": {},
          "execution_count": 63
        }
      ],
      "source": [
        "grid_search.best_score_"
      ]
    },
    {
      "cell_type": "code",
      "execution_count": null,
      "id": "cb770681-d4f0-4161-a6cf-4d677cb158b6",
      "metadata": {
        "id": "cb770681-d4f0-4161-a6cf-4d677cb158b6"
      },
      "outputs": [],
      "source": [
        "rf_best = grid_search.best_estimator_\n",
        "rf_best"
      ]
    },
    {
      "cell_type": "code",
      "execution_count": null,
      "id": "54f65a59-a83a-4c3b-a7d0-dcf012cb82f2",
      "metadata": {
        "id": "54f65a59-a83a-4c3b-a7d0-dcf012cb82f2"
      },
      "outputs": [],
      "source": [
        "from sklearn.tree import plot_tree\n",
        "plt.figure(figsize=(80,40))\n",
        "plot_tree(rf_best.estimators_[5], feature_names = ['等級','年齢','同乗兄弟姉妹数','同乗両親子供数','料金','女性？'],class_names=['生','死'],filled=True);"
      ]
    }
  ],
  "metadata": {
    "kernelspec": {
      "display_name": "Python 3 (ipykernel)",
      "language": "python",
      "name": "python3"
    },
    "language_info": {
      "codemirror_mode": {
        "name": "ipython",
        "version": 3
      },
      "file_extension": ".py",
      "mimetype": "text/x-python",
      "name": "python",
      "nbconvert_exporter": "python",
      "pygments_lexer": "ipython3",
      "version": "3.12.7"
    },
    "colab": {
      "provenance": [],
      "include_colab_link": true
    }
  },
  "nbformat": 4,
  "nbformat_minor": 5
}