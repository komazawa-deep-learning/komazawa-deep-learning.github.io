{
  "nbformat": 4,
  "nbformat_minor": 0,
  "metadata": {
    "colab": {
      "provenance": [],
      "toc_visible": true,
      "include_colab_link": true
    },
    "kernelspec": {
      "display_name": "Python 3",
      "language": "python",
      "name": "python3"
    }
  },
  "cells": [
    {
      "cell_type": "markdown",
      "metadata": {
        "id": "view-in-github",
        "colab_type": "text"
      },
      "source": [
        "<a href=\"https://colab.research.google.com/github/komazawa-deep-learning/komazawa-deep-learning.github.io/blob/master/2025notebooks/2025_1024word2vec_jalex.ipynb\" target=\"_parent\"><img src=\"https://colab.research.google.com/assets/colab-badge.svg\" alt=\"Open In Colab\"/></a>"
      ]
    },
    {
      "cell_type": "markdown",
      "metadata": {
        "id": "b31yw4PFDP7r"
      },
      "source": [
        "# word2vec (2025) 実習\n",
        "\n",
        "<div align='right'>\n",
        "<a href='mailto:asakawa@ieee.org'>Shin Aasakawa</a>, all rights reserved.<br/>\n",
        "Date: 24/Oct/2025<br/>\n",
        "Original Date: 19/Jun/2020<br/>\n",
        "MIT license\n",
        "</div>\n",
        "\n"
      ]
    },
    {
      "cell_type": "markdown",
      "metadata": {
        "id": "2AxEXTJtQ2OD"
      },
      "source": [
        "<center>\n",
        "\n",
        "<img src=\"https://komazawa-deep-learning.github.io/assets/2013Mikolov_KingQueenFig.svg\" width=\"600\"><br/>\n",
        "From Mikolov et. al (2013) Linguistic Regularities in Continuous SpaceWord Representations, Fig. 2<br/>\n",
        "</center>\n",
        "全ての概念がある多次元空間内に存在するとします。各概念はこの空間内での位置ベクトルとして表現されます。\n",
        "このとき，高等学校のときのベクトルの知識を思い出すと，$\\mathbf{a}-\\mathbf{b}$ は，ベクトル $\\mathbf{b}$ から ベクトル $\\mathbf{a}$ へ向かうベクトルとして表されます。\n",
        "すなわち女王ベクトルから王様ベクトルを引くということは，王様を原点と考えて，女王を眺めた方向を表すベクトルと考えることができます。\n",
        "このような，眺める方向を表すベクトルと，別のベクトル 女性ベクトルから男性ベクトルを引いたベクトル，\n",
        "すなわち，男性を原点として女性を眺めたベクトルを考えます。\n",
        "このベクトル 2 つ，<b><font color=\"teal\">女王 - 王様</font></b> と <b><font color=\"teal\">女 - 男</font></b> がほぼ重なることを\n",
        "比喩的に <b><font color=\"teal\">女王 - 王様 = 女 - 男</font></b> となります。この式を少し変形すれば，\n",
        "<b><font color=\"teal\">王様 - 男 + 女 = 女王</font></b> となるでしょう。これを言葉で表せば，\n",
        "<b><font color=\"red\">王様から男を引いて，女を足すと女王になる</font></b>，という演算が形式的に成り立ちます。\n",
        "\n",
        "<br/>\n",
        "<br/>\n",
        "<center>\n",
        "<img src=\"https://komazawa-deep-learning.github.io/assets/2013Mikolov_FigCountries.svg\" width=\"680\"><br/>\n",
        "Modified from Mikolv et. al (2013) Distributed Representations of Words and Phrases and their Compositionality, Fig. 2</br/>\n",
        "\n",
        "<br/><br/>\n",
        "<img src=\"https://komazawa-deep-learning.github.io/assets/2013Mikolov_Fig1.svg\" width=\"840\"><br/>\n",
        "</center>\n"
      ]
    },
    {
      "cell_type": "markdown",
      "metadata": {
        "id": "aXK5jC53WmWi"
      },
      "source": [
        "\n",
        "$$\n",
        "\\ell=\\frac{1}{T}\\sum_{t=1}^{T}\\sum_{-c\\ge j\\ge c,j\\ne0}\\log p\\left(w_{t+1}\\vert w_{t}\\right),\n",
        "$$\n",
        "\n",
        "$$\n",
        "p\\left(w_o\\vert w_i\\right)=\\frac{\\exp(v_{w_{o}}^\\top v_{w_{w_i}})}{\\sum\\exp(v_{w_{o}}^\\top v_{w_{w_i}})}\n",
        "$$"
      ]
    },
    {
      "cell_type": "markdown",
      "source": [
        "# 準備作業"
      ],
      "metadata": {
        "id": "ML6o7LRLQpLD"
      }
    },
    {
      "cell_type": "code",
      "source": [
        "# 2025 年 05 月 01 日時点でのメモ\n",
        "# numpy のバージョンを強制的に 1.26.4 にダウングレードした場合，ランタイムの再起動をしないと\n",
        "# ダウングレードした numpy が実行時に反映されない。\n",
        "# このため一度このセルを実行した後に,上のメニューバー左から 5 つ目の「ランタイム」から「セッションを再起動する」\n",
        "# を選択して再度このセルを実行する必要がある。\n",
        "\n",
        "# Google Colab 上で実行しているかどうかを判定\n",
        "import IPython\n",
        "isColab = 'google.colab' in str(IPython.get_ipython())\n",
        "\n",
        "# Google colab で実行している場合必要なライブラリをインストールして word2vec ファイルをダウンロードする\n",
        "if isColab:\n",
        "    !pip install pydrive2\n",
        "\n",
        "    #Import modules\n",
        "    from pydrive2.auth import GoogleAuth\n",
        "    from pydrive2.drive import GoogleDrive\n",
        "    from google.colab import auth\n",
        "    from oauth2client.client import GoogleCredentials\n",
        "\n",
        "    #Authenticate and create the PyDrive client\n",
        "    auth.authenticate_user()\n",
        "    gauth = GoogleAuth()\n",
        "    gauth.credentials = GoogleCredentials.get_application_default()\n",
        "    drive = GoogleDrive(gauth)\n",
        "\n",
        "    #Get the Shareable link\n",
        "    # 2017Jul_jawiki-wakati_neologd_hid200_win20_neg20_cbow.bin.gz: 1Rp3HbDkbpzMg5ehq1ARwCATX8iZAxTgj\n",
        "    # 2017Jul_jawiki-wakati_neologd_hid200_win20_neg20_sgns.bin.gz: 19BKVOBNHESt1K8725UTM9J3OpqK7YlVb\n",
        "\n",
        "    # 2021_05jawiki_hid200_win20_neg20_sgns.bin.gz: 1JTkU5SUBU2GkURCYeHkAWYs_Zlbqob0s\n",
        "    # 2021_05jawiki_hid200_win20_neg20_cbow.bin.gz: 1VPL2Mr9JgWHik9HjRmcADoxXIdrQ3ds7\n",
        "    # 2021_05jawiki_hid128_win10_neg10_sgns.bin.gz: 1OWmFOVRC6amCxsomcRwdA6ILAA5s4y4M\n",
        "    # 2021_05jawiki_hid128_win10_neg10_cbow.bin.gz: 1B9HGhLZOja4Xku5c_d-kMhCXn1LBZgDb\n",
        "\n",
        "    downloaded = drive.CreateFile({'id':\"1Rp3HbDkbpzMg5ehq1ARwCATX8iZAxTgj\"})\n",
        "    downloaded.GetContentFile('2017Jul_jawiki-wakati_neologd_hid200_win20_neg20_cbow.bin.gz')\n",
        "    # 上記は cbow で訓練済ファイルをダウンロードしています。\n",
        "    # skip gram モデルで訓練済モデルに変更する場合には，上記情報に従って適宜書き換えてください。\n",
        "\n",
        "    !pip uninstall numpy thinc spacy --yes\n",
        "    !pip install --upgrade numpy==1.26.4 --force-reinstall\n",
        "    !pip install --upgrade gensim==4.3.3\n",
        "\n",
        "    import numpy as np\n",
        "    print(f'np.__version__:{np.__version__}')\n",
        "\n",
        "    import gensim\n",
        "    print(f'gensim.__version__:{gensim.__version__}')"
      ],
      "metadata": {
        "id": "mqBMeO0v4FhX"
      },
      "execution_count": null,
      "outputs": []
    },
    {
      "cell_type": "markdown",
      "source": [
        "# 訓練済データの読み込み"
      ],
      "metadata": {
        "id": "WT8Uy1uyQvp5"
      }
    },
    {
      "cell_type": "code",
      "metadata": {
        "id": "Yqfd5fBcC0Tw"
      },
      "source": [
        "# 上セルでダウンロードした訓練済 word2vec ファイルを読み込む\n",
        "word2vec_file='2017Jul_jawiki-wakati_neologd_hid200_win20_neg20_cbow.bin.gz'\n",
        "model = gensim.models.KeyedVectors.load_word2vec_format(word2vec_file,\n",
        "                                                        encoding='utf-8',\n",
        "                                                        unicode_errors='replace',\n",
        "                                                        binary=True)"
      ],
      "execution_count": 2,
      "outputs": []
    },
    {
      "cell_type": "code",
      "metadata": {
        "id": "MLgAKPceC0T2"
      },
      "source": [
        "model.most_similar(positive=['woman', 'king'], negative=['man'], topn=5)"
      ],
      "execution_count": null,
      "outputs": []
    },
    {
      "cell_type": "code",
      "metadata": {
        "id": "dORxdWn4C0T7"
      },
      "source": [
        "model.most_similar(positive=['王','女'], negative=['男'], topn=10)"
      ],
      "execution_count": null,
      "outputs": []
    },
    {
      "cell_type": "code",
      "metadata": {
        "id": "6-43g9qSC0T_"
      },
      "source": [
        "# model.most_similar(positive=['日本心理学会'], negative=['心理学'], topn=10)\n",
        "# model.most_similar(positive=['心理学'], negative=['科学'], topn=10)\n",
        "model.most_similar(positive=['心理学'], negative=['実験'], topn=10)"
      ],
      "execution_count": null,
      "outputs": []
    },
    {
      "cell_type": "code",
      "metadata": {
        "id": "ZbsVQ2ZaC0UC"
      },
      "source": [
        "# model.most_similar(positive=['言語','実験'], topn=10)\n",
        "model.most_similar(positive=['言語学','心理学'], topn=10)"
      ],
      "execution_count": null,
      "outputs": []
    },
    {
      "cell_type": "code",
      "metadata": {
        "id": "JwDbFhUmC0UE"
      },
      "source": [
        "# model.most_similar(positive=['聴覚','認知科学'], topn=5)\n",
        "# model.most_similar(positive=['視覚','認知科学'], topn=5)\n",
        "# model.most_similar(positive=['視覚','認知心理学'], topn=5)\n",
        "model.most_similar(positive=['言語','思考'], topn=5)"
      ],
      "execution_count": null,
      "outputs": []
    },
    {
      "cell_type": "code",
      "metadata": {
        "id": "e1jHd_H1C0UH"
      },
      "source": [
        "model.most_similar(positive=['ユニクロ','錦織圭'], negative=['テニス'], topn=10)"
      ],
      "execution_count": null,
      "outputs": []
    },
    {
      "cell_type": "code",
      "metadata": {
        "id": "TDEXEKtHC0UK"
      },
      "source": [
        "model.most_similar(positive=['ジャイアンツ','アメリカ'], negative=['日本'], topn=10)"
      ],
      "execution_count": null,
      "outputs": []
    },
    {
      "cell_type": "code",
      "metadata": {
        "id": "3quDlVwpC0UN"
      },
      "source": [
        "# model.most_similar(positive=['ユニクロ'], negative=['アパレル'], topn=10)\n",
        "# model.most_similar(positive=['ユニクロ','アメリカ'], negative=['日本'], topn=10)\n",
        "model.most_similar(positive=['ユニクロ','ソフトバンク'], negative=['アパレル'], topn=10)"
      ],
      "execution_count": null,
      "outputs": []
    },
    {
      "cell_type": "code",
      "metadata": {
        "id": "KCPDGV0PC0UR"
      },
      "source": [
        "# model.most_similar(positive=['1','10'], negative=['+'], topn=5)\n",
        "# model.most_similar(positive=['2','1'], negative=['+'], topn=5)\n",
        "model.most_similar(positive=['2','1','-'], topn=5)"
      ],
      "execution_count": null,
      "outputs": []
    },
    {
      "cell_type": "code",
      "metadata": {
        "id": "1c308SFDC0UU"
      },
      "source": [
        "model.most_similar(positive=['NTT', '中国'], topn=10)"
      ],
      "execution_count": null,
      "outputs": []
    },
    {
      "cell_type": "code",
      "metadata": {
        "id": "0slKlslIC0UW"
      },
      "source": [
        "model.most_similar(positive=['東京', '皇居'], topn=10)\n",
        "model.most_similar(positive=['ユニクロ', '楽天'], negative=['IT企業'], topn=10)\n",
        "model.most_similar(positive=['ユニクロ', '無印良品'], topn=10)"
      ],
      "execution_count": null,
      "outputs": []
    },
    {
      "cell_type": "code",
      "metadata": {
        "id": "MYJmb27mC0UY"
      },
      "source": [
        "model.similarity('女性', '男性')"
      ],
      "execution_count": null,
      "outputs": []
    },
    {
      "cell_type": "code",
      "metadata": {
        "id": "YRpEWDtWC0Ua"
      },
      "source": [
        "model['computer']  # raw NumPy vector of a word"
      ],
      "execution_count": null,
      "outputs": []
    },
    {
      "cell_type": "code",
      "metadata": {
        "id": "d65m-1raC0Uc"
      },
      "source": [
        "model['コンピュータ']  # raw NumPy vector of a word"
      ],
      "execution_count": null,
      "outputs": []
    },
    {
      "cell_type": "code",
      "metadata": {
        "id": "14qdfOJ6C0Ue"
      },
      "source": [
        "model.similarity('computer', 'コンピュータ')"
      ],
      "execution_count": null,
      "outputs": []
    },
    {
      "cell_type": "code",
      "metadata": {
        "id": "2Ynaeq3mC0Uh"
      },
      "source": [
        "model.similarity('女性', '女')"
      ],
      "execution_count": null,
      "outputs": []
    },
    {
      "cell_type": "code",
      "metadata": {
        "id": "D0hwUP9KC0Uq"
      },
      "source": [
        "model.most_similar(positive=['京都','皇居'], negative=['東京'], topn=5)"
      ],
      "execution_count": null,
      "outputs": []
    },
    {
      "cell_type": "markdown",
      "source": [
        "# Jalex の読み込み\n",
        "\n",
        "JALEX: Japanese version of lexical decision database<br/>\n",
        "Naoto Ota and Masaya Mochizuki<br/>\n",
        "Date: 2025<br/>\n",
        "DOI: [10.3389/flang.2024.1506509](https://www.frontiersin.org/journals/language-sciences/articles/10.3389/flang.2024.1506509/full)\n"
      ],
      "metadata": {
        "id": "e25oszxOQJzC"
      }
    },
    {
      "cell_type": "code",
      "metadata": {
        "id": "qHPl4VALC0Uy"
      },
      "source": [
        "from google.colab import drive\n",
        "drive.mount('/content/drive')"
      ],
      "execution_count": null,
      "outputs": []
    },
    {
      "cell_type": "code",
      "source": [
        "!ls drive/Shareddrives/2024JALEX\n",
        "!pwd"
      ],
      "metadata": {
        "id": "6QWph209A9kS"
      },
      "execution_count": null,
      "outputs": []
    },
    {
      "cell_type": "code",
      "source": [
        "import matplotlib.pyplot as plt\n",
        "import pandas as pd\n",
        "\n",
        "from IPython import get_ipython\n",
        "isColab =  'google.colab' in str(get_ipython())\n",
        "\n",
        "try:\n",
        "    import japanize_matplotlib\n",
        "except ImportError:\n",
        "    !pip install japanize_matplotlib\n",
        "    import japanize_matplotlib\n",
        "\n",
        "import os\n",
        "\n",
        "if isColab:\n",
        "    HOME = '/content'\n",
        "    localdir = 'drive/Shareddrives/2024JALEX'\n",
        "else:\n",
        "    HOME = os.environ['HOME']\n",
        "    localdir = 'study/2025_2014jalex'\n",
        "\n",
        "basedir = os.path.join(HOME, localdir)\n",
        "jalex_xls_fname = 'JALEX.xlsx'\n",
        "df = pd.read_excel(os.path.join(basedir, jalex_xls_fname))\n",
        "RT, SD = df['平均反応時間 ミリ秒'], df['反応時間の標準偏差']\n",
        "\n",
        "print(df.columns)\n",
        "\n",
        "bins = 60\n",
        "RT.hist(bins=bins)\n",
        "plt.title(f'bins:{bins}')\n",
        "plt.show()\n"
      ],
      "metadata": {
        "id": "HQmd9opDBMHb"
      },
      "execution_count": null,
      "outputs": []
    },
    {
      "cell_type": "code",
      "source": [
        "df"
      ],
      "metadata": {
        "id": "q75g4UG9R_Fe"
      },
      "execution_count": null,
      "outputs": []
    },
    {
      "cell_type": "code",
      "source": [
        "print(len(df['目標語'].to_list()))\n",
        "print(df['目標語'].to_list()[:5])\n",
        "jalex_wrds = df['目標語'].to_list()"
      ],
      "metadata": {
        "id": "0y7gAQTOCR1n"
      },
      "execution_count": null,
      "outputs": []
    },
    {
      "cell_type": "code",
      "source": [
        "# JALEX 単語の中で word2vec にエントリがある単語を抽出\n",
        "jalex_vecs = []\n",
        "jalex_wrds_in = []\n",
        "jalex_rts = []\n",
        "jalex_sds = []\n",
        "for i, wrd in enumerate(jalex_wrds):\n",
        "    if not model.has_index_for(wrd):\n",
        "        print(f'{i:08d}: {wrd} は word2vec 中に存在しない {model.has_index_for(wrd)}')\n",
        "    else:\n",
        "        jalex_vecs.append(model.get_vector(wrd))\n",
        "        jalex_wrds_in.append(wrd)\n",
        "        jalex_rts.append(RT[i])\n",
        "        jalex_sds.append(SD[i])\n",
        "\n",
        "jalex_vecs, jalex_rts, jalex_sds = np.array(jalex_vecs), np.array(jalex_rts), np.array(jalex_sds)"
      ],
      "metadata": {
        "id": "uTHJ8W5hDwXD"
      },
      "execution_count": null,
      "outputs": []
    },
    {
      "cell_type": "markdown",
      "source": [
        "# 反応時間の予測"
      ],
      "metadata": {
        "id": "8d_NC_Z_RbV-"
      }
    },
    {
      "cell_type": "code",
      "source": [
        "# 線形回帰\n",
        "import sklearn\n",
        "from sklearn.linear_model import LinearRegression\n",
        "from sklearn.model_selection import train_test_split\n",
        "from sklearn.metrics import mean_squared_error\n",
        "sk_model = LinearRegression()\n"
      ],
      "metadata": {
        "id": "eIM52IgCD9jX"
      },
      "execution_count": 16,
      "outputs": []
    },
    {
      "cell_type": "code",
      "source": [
        "# データを分割して，訓練データと検証データとに分ける\n",
        "X_train, X_test, y_train, y_test = train_test_split(jalex_vecs, jalex_rts, test_size=0.1, random_state=42)\n",
        "\n",
        "# モデルの当てはめ\n",
        "sk_model.fit(X_train, y_train)\n",
        "\n",
        "# 予測\n",
        "y_pred = sk_model.predict(X_test)\n",
        "\n",
        "# 評価\n",
        "mse = mean_squared_error(y_test, y_pred)\n",
        "print(f\"平均二乗誤差: {mse}\")\n",
        "print(f'{np.sqrt(mse):.3f}')"
      ],
      "metadata": {
        "id": "fo8u_7AUE5Fk"
      },
      "execution_count": null,
      "outputs": []
    },
    {
      "cell_type": "code",
      "source": [
        "plt.scatter(y_pred, y_pred - y_test, color = 'blue') # 残差プロット\n",
        "plt.title('残差プロット')                            # タイトル\n",
        "plt.xlabel('予測値')                                 # x 軸\n",
        "plt.ylabel('残差')                                   # y 軸\n",
        "plt.grid()                                           # グリッド線表示\n",
        "plt.show()                                           # 図の表示\n"
      ],
      "metadata": {
        "id": "Gbk0syl4FNW-"
      },
      "execution_count": null,
      "outputs": []
    },
    {
      "cell_type": "code",
      "source": [
        "sk_model_sd = LinearRegression()\n",
        "# データを分割して，訓練データと検証データとに分ける\n",
        "X_train, X_test, y_train, y_test = train_test_split(jalex_vecs, jalex_sds, test_size=0.1, random_state=42)\n",
        "\n",
        "# モデルの当てはめ\n",
        "sk_model_sd.fit(X_train, y_train)\n",
        "\n",
        "# 予測\n",
        "y_pred = sk_model_sd.predict(X_test)\n",
        "\n",
        "# 評価\n",
        "mse = mean_squared_error(y_test, y_pred)\n",
        "print(f\"平均二乗誤差: {mse}\")\n",
        "print(f'{np.sqrt(mse):.3f}')"
      ],
      "metadata": {
        "id": "G-dwsqJKLiRK"
      },
      "execution_count": null,
      "outputs": []
    },
    {
      "cell_type": "code",
      "source": [
        "plt.scatter(y_pred, y_pred - y_test, color = 'blue') # 残差プロット\n",
        "plt.title('残差プロット')                            # タイトル\n",
        "plt.xlabel('予測値')                                 # x 軸\n",
        "plt.ylabel('残差')                                   # y 軸\n",
        "plt.grid()                                           # グリッド線表示\n",
        "plt.show()                                           # 図の表示\n"
      ],
      "metadata": {
        "id": "_x6XVq-CSf0U"
      },
      "execution_count": null,
      "outputs": []
    },
    {
      "cell_type": "code",
      "source": [],
      "metadata": {
        "id": "FY-nLEHQSnSN"
      },
      "execution_count": null,
      "outputs": []
    }
  ]
}