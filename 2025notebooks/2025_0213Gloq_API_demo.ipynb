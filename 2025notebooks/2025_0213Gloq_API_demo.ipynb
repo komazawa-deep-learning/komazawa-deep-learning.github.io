{
  "cells": [
    {
      "cell_type": "markdown",
      "metadata": {
        "id": "view-in-github",
        "colab_type": "text"
      },
      "source": [
        "<a href=\"https://colab.research.google.com/github/komazawa-deep-learning/komazawa-deep-learning.github.io/blob/master/2025notebooks/2025_0213Gloq_API_demo.ipynb\" target=\"_parent\"><img src=\"https://colab.research.google.com/assets/colab-badge.svg\" alt=\"Open In Colab\"/></a>"
      ]
    },
    {
      "cell_type": "markdown",
      "metadata": {
        "id": "r3YAKqxcsPjm"
      },
      "source": [
        "# 0. Google ドライブに保存\n",
        "\n",
        "必ず、この Colab ノートブックを「ドライブにコピー」してから使う。\n"
      ]
    },
    {
      "cell_type": "markdown",
      "metadata": {
        "id": "gVyKWJ0wrPot"
      },
      "source": [
        "# 1. Groq の API を取得\n",
        "\n",
        "[https://console.groq.com/keys](https://console.groq.com/keys)\n",
        "\n",
        "参考\n",
        "\n",
        "* [https://console.groq.com/docs/quickstart](https://console.groq.com/docs/quickstart)\n",
        "* [https://note.com/synth_brain/n/ne8a5f1924455](https://note.com/synth_brain/n/ne8a5f1924455)\n"
      ]
    },
    {
      "cell_type": "markdown",
      "metadata": {
        "id": "ygrDSG1dueOk"
      },
      "source": [
        "# 2. 必要ライブラリのインストール"
      ]
    },
    {
      "cell_type": "code",
      "execution_count": null,
      "metadata": {
        "id": "DGX1d_YUp_vu"
      },
      "outputs": [],
      "source": [
        "try:\n",
        "    import groq\n",
        "except ImportError:\n",
        "    !pip install --upgrade groq"
      ]
    },
    {
      "cell_type": "markdown",
      "metadata": {
        "id": "J1qr9NdPvrNJ"
      },
      "source": [
        "# APIを使ったLlamaの利用"
      ]
    },
    {
      "cell_type": "markdown",
      "metadata": {
        "id": "I-3V8xF2wEbG"
      },
      "source": [
        "API = \"自分のAPI-Keyをコピペする\"\n",
        "\n",
        "ダブルクオーテーションは必要。\n",
        "\n",
        "Keyのみをコピペで入れ替える。"
      ]
    },
    {
      "cell_type": "code",
      "execution_count": null,
      "metadata": {
        "colab": {
          "base_uri": "https://localhost:8080/",
          "height": 35
        },
        "id": "Yx4AFZUburbD",
        "outputId": "2e84a4b2-9dbd-4017-d744-714f9b57c4ce"
      },
      "outputs": [
        {
          "data": {
            "text/plain": [
              "'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'"
            ]
          },
          "execution_count": 5,
          "metadata": {},
          "output_type": "execute_result"
        }
      ],
      "source": [
        "API = \"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\"\n",
        "API"
      ]
    },
    {
      "cell_type": "markdown",
      "metadata": {
        "id": "O3phG1j3udLG"
      },
      "source": [
        "## サンプルと同じコード\n",
        "\n",
        "https://console.groq.com/docs/quickstart\n",
        "\n",
        "\"content\": \"***ここを自分でいろいろ変えてみる。***\""
      ]
    },
    {
      "cell_type": "code",
      "execution_count": null,
      "metadata": {
        "id": "JluKYs_iuuKH"
      },
      "outputs": [],
      "source": [
        "from groq import Groq\n",
        "\n",
        "client = Groq(\n",
        "    api_key=API,\n",
        ")\n",
        "\n",
        "chat_completion = client.chat.completions.create(\n",
        "    messages=[\n",
        "        {\n",
        "            \"role\": \"user\",\n",
        "            \"content\": \"人生で最も重要なことは何かを日本語で説明してください\",\n",
        "#            \"content\": \"Explain the importance of natural language processing.\",\n",
        "        }\n",
        "    ],\n",
        "    model=\"llama-3.3-70b-versatile\",\n",
        ")\n",
        "\n",
        "print(chat_completion.choices[0].message.content)"
      ]
    },
    {
      "cell_type": "code",
      "execution_count": null,
      "metadata": {
        "id": "WWAo_47ejHMl"
      },
      "outputs": [],
      "source": [
        "for k,v in chat_completion.model_fields.items():\n",
        "    print(k,v)"
      ]
    },
    {
      "cell_type": "code",
      "execution_count": null,
      "metadata": {
        "id": "8kC8YI35jHMl",
        "outputId": "f0d7d32a-f7f0-47ab-dab9-8c820786d03b"
      },
      "outputs": [
        {
          "name": "stdout",
          "output_type": "stream",
          "text": [
            "この文の埋め込みベクトルを得るためには、Natural Language Processing (NLP) のライブラリを使用します。たとえば、TensorFlow のTextVectorization または gensim のWord2Vec、GloVeなどです。\n",
            "\n",
            "以下はTextVectorizationを使った例です。\n",
            "\n",
            "```python\n",
            "import tensorflow as tf\n",
            "\n",
            "# 単語を1と0のベクターに変換するためのTextVectorization\n",
            "vectorizer = tf.keras.layers.TextVectorization()\n",
            "vectorizer.adapt([\"この\", \"文\", \"の\", \"埋め込み\", \"ベクトル\"])\n",
            "\n",
            "# 文章をベクトルに変換\n",
            "vector = vectorizer([\"この文の埋め込みベクトル\"])\n",
            "\n",
            "# 出力\n",
            "print(vector[0])\n",
            "```\n",
            "\n",
            "ただし、この例では単語が1と0のベクトルに変換されます。埋め込みベクトルを取得するためには、事前に学習された埋め込みモデルを使用する必要があります。例えば、gensimのWord2Vecで事前に学習されたモデルを使用して1文を埋め込みベクトルに変換することはできます。以下はその例です。\n",
            "\n",
            "```python\n",
            "import gensim.downloader as api\n",
            "model = api.load(\"word2vec-google-news-300\")\n",
            "\n",
            "# 埋め込みベクトルを取得する\n",
            "vector = model.wv.get_vector(\"この\") + model.wv.get_vector(\"文\") + model.wv.get_vector(\"の\") + model.wv.get_vector(\"埋め込み\") + model.wv.get_vector(\"ベクトル\")\n",
            "\n",
            "# 出力\n",
            "print(vector)\n",
            "```\n",
            "\n",
            " note: TensorFlow 2.x を使用しています。もしそれ以前のバージョンを使用している場合は少し違うコードになります。\n"
          ]
        }
      ],
      "source": [
        "text = 'Please show us a code to get an embedding vector of this sentence.'\n",
        "text = 'この文の埋め込みベクトルを得る python コードを教えて下さい'\n",
        "\n",
        "chat_completion = client.chat.completions.create(\n",
        "    messages=[\n",
        "        # {\n",
        "        #     \"role\": \"system\",\n",
        "        #     \"content\": \"Please transrate your responce in Japanese.And answer only Janapse responce.\",\n",
        "        # },\n",
        "        {\n",
        "            \"role\": \"user\",\n",
        "            \"content\": text,\n",
        "        }\n",
        "    ],\n",
        "    model=\"mixtral-8x7b-32768\",\n",
        "    #model=\"llama-3.3-70b-versatile\",\n",
        ")\n",
        "\n",
        "print(chat_completion.choices[0].message.content)"
      ]
    },
    {
      "cell_type": "code",
      "execution_count": null,
      "metadata": {
        "id": "16S0SteEjHMl",
        "outputId": "cbc4fccd-5101-44a4-8862-4247c32d4b96"
      },
      "outputs": [
        {
          "name": "stdout",
          "output_type": "stream",
          "text": [
            "{'id': FieldInfo(annotation=str, required=True), 'choices': FieldInfo(annotation=List[Choice], required=True), 'created': FieldInfo(annotation=int, required=True), 'model': FieldInfo(annotation=str, required=True), 'object': FieldInfo(annotation=Literal['chat.completion'], required=True), 'system_fingerprint': FieldInfo(annotation=Union[str, NoneType], required=False, default=None), 'usage': FieldInfo(annotation=Union[CompletionUsage, NoneType], required=False, default=None)}\n"
          ]
        }
      ],
      "source": [
        "#print(dir(chat_completion))\n",
        "print(chat_completion.model_fields)\n",
        "#print(dir(chat_completion.choices))\n",
        "#print(chat_completion.choices)\n",
        "#help(chat_completion.choices[0])\n",
        "#chat_completion.choices[0].to_dict()"
      ]
    },
    {
      "cell_type": "markdown",
      "metadata": {
        "id": "YxdJzmS32-Qo"
      },
      "source": [
        "## チャットボット"
      ]
    },
    {
      "cell_type": "markdown",
      "metadata": {
        "id": "TXMKzfm8pnEe"
      },
      "source": [
        "｢この文章をトークン化してください｣。をトークン化して，そのトークンIDを教えて下さい。"
      ]
    },
    {
      "cell_type": "code",
      "execution_count": null,
      "metadata": {
        "colab": {
          "background_save": true
        },
        "id": "BXOMWcbZ3BOy"
      },
      "outputs": [],
      "source": [
        "from groq import Groq\n",
        "\n",
        "client = Groq(api_key=API)\n",
        "\n",
        "messages = [\n",
        "    {\n",
        "        \"role\": \"system\",\n",
        "        \"content\": \"You're a chatbot. Please have a chat with me. When I type in Japanese, please answer in Japanese.\",\n",
        "    }\n",
        "]\n",
        "\n",
        "print(\"Chatbot: Hello! You can start chatting. Type 'exit' to end the conversation.\")\n",
        "\n",
        "while True:\n",
        "    user_input = input(\"You: \")  # ユーザー入力を取得\n",
        "\n",
        "    if user_input.lower() in [\"exit\", \"quit\"]:\n",
        "        print(\"Chatbot: Goodbye!\")\n",
        "        break\n",
        "\n",
        "    # ユーザーのメッセージを履歴に追加\n",
        "    messages.append({\"role\": \"user\", \"content\": user_input})\n",
        "\n",
        "    # API にリクエストを送信\n",
        "    chat_completion = client.chat.completions.create(\n",
        "        messages=messages,\n",
        "        model=\"llama-3.3-70b-versatile\",\n",
        "    )\n",
        "\n",
        "    # 応答を取得して表示\n",
        "    response = chat_completion.choices[0].message.content\n",
        "    print(\"Chatbot:\", response)\n",
        "\n",
        "    # 応答を履歴に追加\n",
        "    messages.append({\"role\": \"assistant\", \"content\": response})\n",
        "\n",
        "\n",
        "### 終了するためには「exit」や「quit」と入力してください ###"
      ]
    },
    {
      "cell_type": "markdown",
      "metadata": {
        "id": "4SaWdP-Zx3va"
      },
      "source": [
        "## プロンプトを先に書いておくパターン\n",
        "\n",
        "以下ではサンプルとして、入力された英文のエラーを訂正するものにしている。\n",
        "\n",
        "prompt = \"Reply with a corrected version of the input sentence with all grammatical, spelling, and punctuation errors fixed. Be strict about the possible errors. If there are no errors, reply with a copy of the original sentence. Please do not add any unnecessary explanations.\"\n",
        "\n",
        "text = \"In additoin to making money by themselves can increase the sense of independece from their parents because they can earn money by working hard.\""
      ]
    },
    {
      "cell_type": "code",
      "execution_count": null,
      "metadata": {
        "id": "hwAMgQoKyo3y"
      },
      "outputs": [],
      "source": [
        "prompt = \"Reply with a corrected version of the input sentence with all grammatical, spelling, and punctuation errors fixed. Be strict about the possible errors. If there are no errors, reply with a copy of the original sentence. Please do not add any unnecessary explanations.\""
      ]
    },
    {
      "cell_type": "code",
      "execution_count": null,
      "metadata": {
        "id": "xr38lfwY0sI1"
      },
      "outputs": [],
      "source": [
        "prompt"
      ]
    },
    {
      "cell_type": "code",
      "execution_count": null,
      "metadata": {
        "id": "Azcabkanx3LM"
      },
      "outputs": [],
      "source": [
        "text = \"In additoin to making money by themselves can increase the sense of independece from their parents because they can earn money by working hard.\""
      ]
    },
    {
      "cell_type": "code",
      "execution_count": null,
      "metadata": {
        "id": "ts5imvzv1fDS"
      },
      "outputs": [],
      "source": [
        "# text = input('Text:')"
      ]
    },
    {
      "cell_type": "code",
      "execution_count": null,
      "metadata": {
        "id": "sOZAPMQP01gL"
      },
      "outputs": [],
      "source": [
        "text"
      ]
    },
    {
      "cell_type": "code",
      "execution_count": null,
      "metadata": {
        "id": "7RrYVmtLyv2O"
      },
      "outputs": [],
      "source": [
        "from groq import Groq\n",
        "\n",
        "client = Groq(\n",
        "    api_key=API,\n",
        ")\n",
        "completion = client.chat.completions.create(\n",
        "    model=\"llama-3.3-70b-versatile\",\n",
        "    messages=[\n",
        "        {\n",
        "            \"role\": \"system\",\n",
        "            \"content\": prompt,\n",
        "        },\n",
        "        {\n",
        "            \"role\": \"user\",\n",
        "            \"content\": text,\n",
        "        }\n",
        "    ],\n",
        "    temperature=1,  # 1が最大（OpenAIは2）、0が最小、低い値を指定すると回答のランダム性を減らす\n",
        "    max_tokens=1024,\n",
        "    top_p=1, # 低い値を指定すると、可能性の低い選択肢を無視。0 or 1で無効になる。\n",
        "    # top_p と temperature は共に出力の多様性を制御するパラメータだが、同時に両方を変更することは推奨されていない\n",
        "    stream=True, # APIの応答を一度にすべて受け取るのではなく、小さなチャンク（部分）ごとに受け取りながら処理\n",
        "    stop=None, # 生成を停止する条件（やキーワード）を指定（改行2回までなど）\n",
        ")\n",
        "\n",
        "for chunk in completion:\n",
        "    print(chunk.choices[0].delta.content or \"\", end=\"\")"
      ]
    },
    {
      "cell_type": "markdown",
      "metadata": {
        "id": "CKreKd832X_Q"
      },
      "source": [
        "[difff](https://difff.jp/)"
      ]
    }
  ],
  "metadata": {
    "colab": {
      "provenance": [],
      "toc_visible": true,
      "include_colab_link": true
    },
    "kernelspec": {
      "display_name": "Python 3 (ipykernel)",
      "language": "python",
      "name": "python3"
    },
    "language_info": {
      "codemirror_mode": {
        "name": "ipython",
        "version": 3
      },
      "file_extension": ".py",
      "mimetype": "text/x-python",
      "name": "python",
      "nbconvert_exporter": "python",
      "pygments_lexer": "ipython3",
      "version": "3.12.7"
    }
  },
  "nbformat": 4,
  "nbformat_minor": 0
}