{
  "cells": [
    {
      "cell_type": "markdown",
      "metadata": {
        "id": "view-in-github",
        "colab_type": "text"
      },
      "source": [
        "<a href=\"https://colab.research.google.com/github/komazawa-deep-learning/komazawa-deep-learning.github.io/blob/master/2025notebooks/2025_0411Gloq_API_demo.ipynb\" target=\"_parent\"><img src=\"https://colab.research.google.com/assets/colab-badge.svg\" alt=\"Open In Colab\"/></a>"
      ]
    },
    {
      "cell_type": "markdown",
      "metadata": {
        "id": "r3YAKqxcsPjm"
      },
      "source": [
        "# 0. Google ドライブに保存\n",
        "\n",
        "必ず、この Colab ノートブックを「ドライブにコピー」してから使うこと\n"
      ]
    },
    {
      "cell_type": "markdown",
      "metadata": {
        "id": "gVyKWJ0wrPot"
      },
      "source": [
        "# 1. Groq の API key を取得する\n",
        "\n",
        "このリンクから API のキーを取得する [https://console.groq.com/keys](https://console.groq.com/keys)\n",
        "\n",
        "参考\n",
        "\n",
        "* [https://console.groq.com/docs/quickstart](https://console.groq.com/docs/quickstart)\n",
        "* [https://note.com/synth_brain/n/ne8a5f1924455](https://note.com/synth_brain/n/ne8a5f1924455)\n"
      ]
    },
    {
      "cell_type": "markdown",
      "metadata": {
        "id": "ygrDSG1dueOk"
      },
      "source": [
        "# 2. 必要ライブラリのインストール"
      ]
    },
    {
      "cell_type": "code",
      "execution_count": null,
      "metadata": {
        "id": "DGX1d_YUp_vu"
      },
      "outputs": [],
      "source": [
        "try:\n",
        "    import groq\n",
        "except ImportError:\n",
        "    !pip install --upgrade groq"
      ]
    },
    {
      "cell_type": "markdown",
      "metadata": {
        "id": "J1qr9NdPvrNJ"
      },
      "source": [
        "# APIを使ったLlamaの利用"
      ]
    },
    {
      "cell_type": "markdown",
      "metadata": {
        "id": "I-3V8xF2wEbG"
      },
      "source": [
        "API = \"自分のAPI-Keyをコピペする\"\n",
        "\n",
        "ダブルクオーテーションは必要。\n",
        "\n",
        "Keyのみをコピペで入れ替える。"
      ]
    },
    {
      "cell_type": "code",
      "execution_count": null,
      "metadata": {
        "id": "Yx4AFZUburbD"
      },
      "outputs": [],
      "source": [
        "API = \"ここに API key をコピペすること\"\n",
        "API"
      ]
    },
    {
      "cell_type": "markdown",
      "metadata": {
        "id": "O3phG1j3udLG"
      },
      "source": [
        "## サンプルと同じコード\n",
        "\n",
        "https://console.groq.com/docs/quickstart\n",
        "\n",
        "\"content\": \"***ここを自分でいろいろ変えてみる。***\""
      ]
    },
    {
      "cell_type": "code",
      "execution_count": null,
      "metadata": {
        "id": "JluKYs_iuuKH"
      },
      "outputs": [],
      "source": [
        "from groq import Groq\n",
        "\n",
        "client = Groq(\n",
        "    api_key=API,\n",
        ")\n",
        "\n",
        "chat_completion = client.chat.completions.create(\n",
        "    messages=[\n",
        "        {\n",
        "            \"role\": \"user\",\n",
        "            \"content\": \"AI とは何かを説明して\",\n",
        "        }\n",
        "    ],\n",
        "    model=\"llama-3.3-70b-versatile\",\n",
        ")\n",
        "\n",
        "print(chat_completion.choices[0].message.content)"
      ]
    },
    {
      "cell_type": "code",
      "execution_count": null,
      "metadata": {
        "id": "WWAo_47ejHMl"
      },
      "outputs": [],
      "source": [
        "for k,v in chat_completion.model_fields.items():\n",
        "    print(k,v)"
      ]
    },
    {
      "cell_type": "code",
      "execution_count": null,
      "metadata": {
        "id": "8kC8YI35jHMl"
      },
      "outputs": [],
      "source": [
        "text = '画像認識をする PyTorch の コードを教えて'\n",
        "\n",
        "chat_completion = client.chat.completions.create(\n",
        "    messages=[\n",
        "        # {\n",
        "        #     \"role\": \"system\",\n",
        "        #     \"content\": \"Please transrate your responce in Japanese.And answer only Janapse responce.\",\n",
        "        # },\n",
        "        {\n",
        "            \"role\": \"user\",\n",
        "            \"content\": text,\n",
        "        }\n",
        "    ],\n",
        "    model=\"llama-3.1-8b-instant\",\n",
        "    #model=\"mixtral-8x7b-32768\",\n",
        "    #model=\"llama-3.3-70b-versatile\",\n",
        ")\n",
        "\n",
        "print(chat_completion.choices[0].message.content)"
      ]
    },
    {
      "cell_type": "code",
      "execution_count": null,
      "metadata": {
        "id": "16S0SteEjHMl"
      },
      "outputs": [],
      "source": [
        "#print(dir(chat_completion))\n",
        "print(chat_completion.model_fields)\n",
        "#print(dir(chat_completion.choices))\n",
        "#print(chat_completion.choices)\n",
        "#help(chat_completion.choices[0])\n",
        "#chat_completion.choices[0].to_dict()"
      ]
    },
    {
      "cell_type": "markdown",
      "metadata": {
        "id": "YxdJzmS32-Qo"
      },
      "source": [
        "## チャットボット"
      ]
    },
    {
      "cell_type": "code",
      "execution_count": 6,
      "metadata": {
        "colab": {
          "base_uri": "https://localhost:8080/"
        },
        "id": "BXOMWcbZ3BOy",
        "outputId": "9dd42082-0e35-40e3-e1f1-196cc6e29523"
      },
      "outputs": [
        {
          "output_type": "stream",
          "name": "stdout",
          "text": [
            "ボット：こんにちは！チャットを開始しましょう。終了するには exit と入力してください。\n",
            "You: AI の負の側面を教えて\n",
            "ボット: AIの負の側面については、以下のような点が挙げられます。\n",
            "\n",
            "1. **プライバシー侵害**：AIを使用することで、個人のプライバシーが侵害される可能性があります。例えば、AIが使用するデータは、個人情報や機密情報を含む場合があります。\n",
            "2. **偏見や差別**：AIのアルゴリズムは、トレーニングデータに含まれる偏見や差別的な要素を学習してしまうことがあります。その結果、AIが不公平な判断や行動を行う可能性があります。\n",
            "3. **失業**：AIの自動化により、さまざまな業界で仕事が失われる恐れがあります。これは、特に簡単な作業が多い業界で深刻な問題となる可能性があります。\n",
            "4. **セキュリティの脆弱性**：AIシステムは、ハッカーやサイバー攻撃の標的となる可能性があります。AIシステムのセキュリティが脆弱な場合、個人情報や機密情報が漏洩する可能性があります。\n",
            "5. **説明できない判断**：AIの判断や決定の根拠が、人間に理解できない場合があります。これは、AIが説明できない判断や行動を行うことがあり、信頼性や安全性の問題につながる可能性があります。\n",
            "\n",
            "これらの点は、AIの開発と使用にあたり、慎重に検討し、対策を講じる必要があります。\n",
            "You: AI の発展で社会はどう変わる？\n",
            "ボット: AIの発展は、社会に多くの変化をもたらすものになりそうです。以下のような変化が予想されます。\n",
            "\n",
            "1. **仕事の自動化**：AIの発展により、多くの仕事が自動化され、就業構造が変化する可能性があります。特に、繰り返し作業や、データ処理等の事務作業が自動化されることで、従業員の負担が軽減され、効率性が向上する可能性があります。\n",
            "2. **新しい職業の創出**：一方で、AIの発展により、新しい職業や業界が創出される可能性もあります。AIエンジニア、データサイエンティスト、AIトレーナー等、AI関連の専門職が増える可能性があります。\n",
            "3. **ライフスタイルの変化**：AIの発展により、人々のライフスタイルが変化する可能性があります。例えば、AIによる家電制御や、自社車の開発により、人々の生活がより便利になり、余暇時間が増える可能性があります。\n",
            "4. **教育の変化**：AIの発展により、教育も変化する可能性があります。AIを使用した個別化教育や、AIによる学習支援が実現し、教育の質が向上する可能性があります。\n",
            "5. **医療の進歩**：AIの発展により、医療も進歩する可能性があります。AIを使用した疾患予測や、AIによる医療診断が実現し、治療の精度が向上する可能性があります。\n",
            "6. **交通の変化**：AIの発展により、交通も変化する可能性があります。自律走行車や、AIによる交通管理が実現し、交通事故の削減や、交通渋滞の解消が期待されます。\n",
            "7. **経済の変化**：AIの発展により、経済も変化する可能性があります。AIを使用した予測や、AIによるビジネスモデルの開発が実現し、企業の収益性が向上する可能性があります。\n",
            "\n",
            "これらの変化は、社会に大きな影響を与えるものになりそうですが、適切な対策とガイドラインが必要です。\n",
            "You: exit\n",
            "Chatbot: さようなら\n"
          ]
        }
      ],
      "source": [
        "from groq import Groq\n",
        "\n",
        "client = Groq(api_key=API)\n",
        "\n",
        "messages = [\n",
        "    {\n",
        "        \"role\": \"system\",\n",
        "        \"content\": \"You're a chatbot. Please have a chat with me. When I type in Japanese, please answer in Japanese.\",\n",
        "    }\n",
        "]\n",
        "\n",
        "print(\"ボット：こんにちは！チャットを開始しましょう。終了するには exit と入力してください。\")\n",
        "\n",
        "while True:\n",
        "    user_input = input(\"You: \")  # ユーザー入力を取得\n",
        "\n",
        "    if user_input.lower() in [\"exit\", \"quit\"]:\n",
        "        print(\"Chatbot: さようなら\")\n",
        "        break\n",
        "\n",
        "    # ユーザーのメッセージを履歴に追加\n",
        "    messages.append({\"role\": \"user\", \"content\": user_input})\n",
        "\n",
        "    # API にリクエストを送信\n",
        "    chat_completion = client.chat.completions.create(\n",
        "        messages=messages,\n",
        "        model=\"llama-3.3-70b-versatile\",\n",
        "    )\n",
        "\n",
        "    # 応答を取得して表示\n",
        "    response = chat_completion.choices[0].message.content\n",
        "    print(\"ボット:\", response)\n",
        "\n",
        "    # 応答を履歴に追加\n",
        "    messages.append({\"role\": \"assistant\", \"content\": response})\n",
        "\n",
        "\n",
        "### 終了するためには「exit」や「quit」と入力してください ###"
      ]
    },
    {
      "cell_type": "code",
      "source": [
        "prompt = \"次の文章を日本語に翻訳して\"\n",
        "text = \"What are key points to understand the relationship between psychology and AI?\""
      ],
      "metadata": {
        "id": "i9JSrurh2QzI"
      },
      "execution_count": 18,
      "outputs": []
    },
    {
      "cell_type": "code",
      "execution_count": 19,
      "metadata": {
        "id": "7RrYVmtLyv2O",
        "colab": {
          "base_uri": "https://localhost:8080/"
        },
        "outputId": "375c2294-aab4-4b03-8e5d-fdfc11f212aa"
      },
      "outputs": [
        {
          "output_type": "stream",
          "name": "stdout",
          "text": [
            "心理学とAIの関係を理解する上で重要なポイントは次のとおりです。\n",
            "\n",
            "1. **人間の認知の理解**：心理学は人間の認知、感情、行動を研究します。AIシステムは人間の認知プロセスを模倣するように設計されており、心理学の知識はAIの開発に役立ちます。\n",
            "2. **AIの認知モデリング**：AIシステムは人間の認知プロセスを模倣するために、認知モデリングを使用します。認知モデリングは、人間の認知プロセスを数学的に表現し、AIシステムが人間と同様に問題を解決できるようにします。\n",
            "3. **感情認識と理解**：心理学は感情の研究も行っています。AIシステムは人間の感情を認識して理解することができます。これは、人間とAIシステムの間でより効果的なコミュニケーションができるようにするために重要です。\n",
            "4. **人間中心のAI設計**：心理学の知識を使用して、人間のニーズと能力に合わせて設計されたAIシステムを作成できます。人間中心のAI設計は、AIシステムがより使いやすく、より人間に優しいものになります。\n",
            "5. **倫理的懸念**：AIの開発と使用に伴う倫理的懸念もあります。心理学は、AIシステムが人間の幸福と安全を保護するために開発されるべきであることを強調しています。\n",
            "6. **AIによる心理学の新しい研究分野**：AIは、心理学の新しい研究分野も生み出しています。例えば、AIを使用した心理測定や、AIによる心理療法などです。\n",
            "7. **人間とAIの共存**：心理学は、人間とAIシステムの共存を研究しています。AIシステムは人間の生活を改善することができますが、人間の仕事や関係に影響を与える可能性もあります。\n",
            "\n",
            "これらのポイントを理解することで、心理学とAIの関係をより深く理解することができます。"
          ]
        }
      ],
      "source": [
        "from groq import Groq\n",
        "\n",
        "client = Groq(\n",
        "    api_key=API,\n",
        ")\n",
        "\n",
        "completion = client.chat.completions.create(\n",
        "    model=\"llama-3.3-70b-versatile\",\n",
        "    messages=[\n",
        "        {\n",
        "            \"role\": \"system\",\n",
        "            \"content\": prompt,\n",
        "        },\n",
        "        {\n",
        "            \"role\": \"user\",\n",
        "            \"content\": text,\n",
        "        }\n",
        "    ],\n",
        "    temperature=1,  # 1が最大（OpenAIは2）、0が最小、低い値を指定すると回答のランダム性を減らす\n",
        "    max_tokens=1024,\n",
        "    top_p=1, # 低い値を指定すると、可能性の低い選択肢を無視。0 or 1で無効になる。\n",
        "    # top_p と temperature は共に出力の多様性を制御するパラメータだが、同時に両方を変更することは推奨されていない\n",
        "    stream=True, # APIの応答を一度にすべて受け取るのではなく、小さなチャンク（部分）ごとに受け取りながら処理\n",
        "    stop=None, # 生成を停止する条件（やキーワード）を指定（改行2回までなど）\n",
        ")\n",
        "\n",
        "for chunk in completion:\n",
        "    print(chunk.choices[0].delta.content or \"\", end=\"\")"
      ]
    },
    {
      "cell_type": "code",
      "source": [],
      "metadata": {
        "id": "Q05z-oZD2XoT"
      },
      "execution_count": null,
      "outputs": []
    }
  ],
  "metadata": {
    "colab": {
      "provenance": [],
      "toc_visible": true,
      "include_colab_link": true
    },
    "kernelspec": {
      "display_name": "Python 3 (ipykernel)",
      "language": "python",
      "name": "python3"
    },
    "language_info": {
      "codemirror_mode": {
        "name": "ipython",
        "version": 3
      },
      "file_extension": ".py",
      "mimetype": "text/x-python",
      "name": "python",
      "nbconvert_exporter": "python",
      "pygments_lexer": "ipython3",
      "version": "3.12.7"
    }
  },
  "nbformat": 4,
  "nbformat_minor": 0
}