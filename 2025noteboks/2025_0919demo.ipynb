{
  "nbformat": 4,
  "nbformat_minor": 0,
  "metadata": {
    "colab": {
      "private_outputs": true,
      "provenance": [],
      "authorship_tag": "ABX9TyOSVqIQy6BvEDmNEONwLqx4",
      "include_colab_link": true
    },
    "kernelspec": {
      "name": "python3",
      "display_name": "Python 3"
    },
    "language_info": {
      "name": "python"
    }
  },
  "cells": [
    {
      "cell_type": "markdown",
      "metadata": {
        "id": "view-in-github",
        "colab_type": "text"
      },
      "source": [
        "<a href=\"https://colab.research.google.com/github/komazawa-deep-learning/komazawa-deep-learning.github.io/blob/master/2025noteboks/2025_0919demo.ipynb\" target=\"_parent\"><img src=\"https://colab.research.google.com/assets/colab-badge.svg\" alt=\"Open In Colab\"/></a>"
      ]
    },
    {
      "cell_type": "code",
      "execution_count": null,
      "metadata": {
        "id": "sXoKLklzA0t1"
      },
      "outputs": [],
      "source": [
        "import matplotlib.pyplot as plt\n",
        "import numpy as np\n",
        "import pandas as pd\n",
        "import statsmodels.api as sm\n",
        "\n",
        "try:\n",
        "    import japanize_matplotlib\n",
        "except ImportError:\n",
        "    !pip install japanize_matplotlib\n",
        "    import japanize_matplotlib\n",
        "\n",
        "np.random.seed(42)"
      ]
    },
    {
      "cell_type": "code",
      "source": [
        "n_sample = 50\n",
        "sigma = 0.5\n",
        "x = np.linspace(0, 20, n_sample)\n",
        "X3 = np.column_stack((x, np.sin(x), (x - 5) ** 2, np.ones(n_sample)))\n",
        "X2 = np.column_stack((x, np.sin(x), (x - 5) ** 2))\n",
        "X1 = np.column_stack((x, np.sin(x)))\n",
        "X0 = np.column_stack((x, np.sin(x)))\n",
        "theta3 = [0.5, 0.5, -0.02, 5.0]\n",
        "theta2 = [0.5, 0.5, -0.02]\n",
        "theta1 = [0.5, 0.5]\n",
        "theta0 = [0.5]\n",
        "\n",
        "y_true = np.dot(X3, theta3)\n",
        "y = y_true + sigma * np.random.normal(size=n_sample)"
      ],
      "metadata": {
        "id": "FrQSpTmzA8DC"
      },
      "execution_count": null,
      "outputs": []
    },
    {
      "cell_type": "code",
      "source": [
        "plt.plot(x,y)\n",
        "plt.show()"
      ],
      "metadata": {
        "id": "iMBomDu8BR6W"
      },
      "execution_count": null,
      "outputs": []
    },
    {
      "cell_type": "code",
      "source": [
        "plt.plot(np.sin(x), c='red', label='X0')\n",
        "#plt.plot((x-5) ** 2, c='blue', label='X1')\n",
        "plt.plot(np.ones(n_sample), c='green', label='X2')\n",
        "plt.legend()\n",
        "plt.show()"
      ],
      "metadata": {
        "id": "Nu0VpQYACCQn"
      },
      "execution_count": null,
      "outputs": []
    },
    {
      "cell_type": "code",
      "source": [
        "res3 = sm.OLS(y, X3).fit()\n",
        "res2 = sm.OLS(y, X2).fit()\n",
        "res1 = sm.OLS(y, X1).fit()\n",
        "res0 = sm.OLS(y, X0).fit()\n",
        "\n",
        "for _res in [res0, res1, res2, res3]:\n",
        "    print(_res.summary())"
      ],
      "metadata": {
        "id": "Qd06ayvSBZSc"
      },
      "execution_count": null,
      "outputs": []
    },
    {
      "cell_type": "code",
      "source": [
        "np.set_printoptions(precision=4, suppress=False)\n",
        "for _res in [res0, res1, res2, res3]:\n",
        "    print(f\"Parameters: {_res.params}\")\n",
        "    print(f\"Standard errors: {_res.bse}\")\n",
        "    print(\"-\" * 77)\n",
        "#print(\"Predicted values: \", res.predict())\n"
      ],
      "metadata": {
        "id": "MYogPG1sBw8X"
      },
      "execution_count": null,
      "outputs": []
    },
    {
      "cell_type": "code",
      "source": [
        "_res = res3\n",
        "pred_ols = _res.get_prediction()\n",
        "iv_l = pred_ols.summary_frame()[\"obs_ci_lower\"]\n",
        "iv_u = pred_ols.summary_frame()[\"obs_ci_upper\"]\n",
        "\n",
        "fig, ax = plt.subplots(figsize=(8, 6))\n",
        "\n",
        "ax.plot(x, y, \"o\", label=\"データ\")\n",
        "ax.plot(x, y_true, \"b-\", label=\"True\")\n",
        "ax.plot(x, _res.fittedvalues, \"r--.\", label=\"OLS\")\n",
        "ax.plot(x, iv_u, \"r--\")\n",
        "ax.plot(x, iv_l, \"r--\")\n",
        "ax.legend(loc=\"best\")"
      ],
      "metadata": {
        "id": "Yc6lQtNqB0RY"
      },
      "execution_count": null,
      "outputs": []
    },
    {
      "cell_type": "code",
      "source": [
        "y_fft = np.fft.fft(y)\n",
        "y_ifft = np.fft.ifft(y_fft)\n",
        "\n",
        "plt.plot(x, y_ifft.real)\n",
        "#plt.plot(x, y_fft.real)\n",
        "plt.show()"
      ],
      "metadata": {
        "id": "hxi82CurCRSd"
      },
      "execution_count": null,
      "outputs": []
    },
    {
      "cell_type": "code",
      "source": [
        "y"
      ],
      "metadata": {
        "id": "irVMZl8eDD1N"
      },
      "execution_count": null,
      "outputs": []
    },
    {
      "cell_type": "code",
      "source": [
        "import numpy as np\n",
        "import pandas as pd\n",
        "import matplotlib.pyplot as plt\n",
        "from sklearn.preprocessing import MinMaxScaler\n",
        "from sklearn.model_selection import train_test_split\n",
        "import torch\n",
        "import torch.nn as nn\n",
        "import torch.optim as optim"
      ],
      "metadata": {
        "id": "mSRrY6diCnfV"
      },
      "execution_count": null,
      "outputs": []
    },
    {
      "cell_type": "code",
      "source": [
        "def create_sequences(data, seq_length):\n",
        "    xs, ys = [], []\n",
        "    for i in range(len(data) - seq_length):\n",
        "        x = data[i:i+seq_length] # Sequence of length `seq_length`\n",
        "        y = data[i+seq_length]   # Label is the next value\n",
        "        xs.append(x)\n",
        "        ys.append(y)\n",
        "    return np.array(xs), np.array(ys)\n",
        "\n",
        "SEQ_LENGTH = 20 # Number of past time steps to look at\n",
        "\n",
        "X, y = create_sequences(y, SEQ_LENGTH)\n",
        "\n",
        "# Split data into train and test sets\n",
        "X_train, X_test, y_train, y_test = train_test_split(X, y, test_size=0.2, shuffle=False)\n",
        "\n",
        "# Convert arrays to PyTorch tensors\n",
        "X_train = torch.Tensor(X_train).unsqueeze(-1) # Shape: (batch, seq, input_size)\n",
        "y_train = torch.Tensor(y_train)\n",
        "X_test = torch.Tensor(X_test).unsqueeze(-1)\n",
        "y_test = torch.Tensor(y_test)\n"
      ],
      "metadata": {
        "id": "kOX3Nd2WCyW3"
      },
      "execution_count": null,
      "outputs": []
    },
    {
      "cell_type": "code",
      "source": [
        "X_train.size(), y_train.size()"
      ],
      "metadata": {
        "id": "rCHR1cH8DLdd"
      },
      "execution_count": null,
      "outputs": []
    },
    {
      "cell_type": "code",
      "source": [
        "class BasicRNN(nn.Module):\n",
        "    def __init__(self, input_size=1, hidden_size=64, num_layers=1):\n",
        "        super(BasicRNN, self).__init__()\n",
        "        self.rnn = nn.RNN(input_size, hidden_size, num_layers, batch_first=True)\n",
        "        self.fc = nn.Linear(hidden_size, 1)\n",
        "\n",
        "    def forward(self, x):\n",
        "        out, _ = self.rnn(x)         # RNN output for all time steps\n",
        "        out = out[:, -1, :]          # Take output from the last time step\n",
        "        return self.fc(out)          # Pass through linear layer\n",
        "\n",
        "# Instantiate the model\n",
        "model = BasicRNN()\n",
        "model.eval()"
      ],
      "metadata": {
        "id": "ndt0qvw_DMm4"
      },
      "execution_count": null,
      "outputs": []
    },
    {
      "cell_type": "code",
      "source": [
        "criterion = nn.MSELoss()\n",
        "optimizer = optim.Adam(model.parameters(), lr=0.01)\n",
        "EPOCHS = 100\n",
        "\n",
        "losses = []\n",
        "for epoch in range(EPOCHS):\n",
        "    model.train()\n",
        "    output = model(X_train)\n",
        "    loss = criterion(output.squeeze(), y_train)  # Compute loss\n",
        "\n",
        "    optimizer.zero_grad()\n",
        "    loss.backward()\n",
        "    optimizer.step()\n",
        "    losses.append(loss.item())\n",
        "\n",
        "    if (epoch + 1) % 10 == 0:\n",
        "        print(f\"Epoch [{epoch+1}/{EPOCHS}], Loss: {loss.item():.4f}\")"
      ],
      "metadata": {
        "id": "OTSYMv6qDUmV"
      },
      "execution_count": null,
      "outputs": []
    },
    {
      "cell_type": "code",
      "source": [
        "scaler = MinMaxScaler()\n",
        "scaler = MinMaxScaler()\n",
        "df['value'] = scaler.fit_transform(df[['value']])  # Normalize values\n"
      ],
      "metadata": {
        "id": "CDiGKEu8GmDN"
      },
      "execution_count": null,
      "outputs": []
    },
    {
      "cell_type": "code",
      "source": [
        "model.eval()\n",
        "with torch.no_grad():\n",
        "    predictions = model(X_test).squeeze().numpy() # Predict on test set\n",
        "\n",
        "# Inverse transform to original scale\n",
        "y_test_inv = scaler.inverse_transform(y_test.reshape(-1, 1))\n",
        "predictions_inv = scaler.inverse_transform(predictions.reshape(-1, 1))\n",
        "\n",
        "# Plot actual vs predicted\n",
        "#plt.figure(figsize=(10, 4))\n",
        "#plt.plot(y_test_inv, label='Actual')\n",
        "#plt.plot(predictions_inv, label='Predicted')\n",
        "#plt.title(\"RNN Prediction vs Actual\")\n",
        "#plt.xlabel(\"Time Step\")\n",
        "#plt.ylabel(\"Value\")\n",
        "#plt.legend()\n",
        "#plt.show()"
      ],
      "metadata": {
        "id": "FonSlU25EyWa"
      },
      "execution_count": null,
      "outputs": []
    },
    {
      "cell_type": "code",
      "source": [
        "#print(X_test, predictions)\n",
        "#X_test.size()# , predictions.size()\n",
        "print(y_test.reshape(-1,1).numpy(), predictions.reshape(-1,1))\n",
        "plt.plot(y_test.reshape(-1,1).numpy(), predictions.reshape(-1,1))"
      ],
      "metadata": {
        "id": "mu7iA22RDabW"
      },
      "execution_count": null,
      "outputs": []
    },
    {
      "cell_type": "code",
      "source": [],
      "metadata": {
        "id": "GQOHObg0FBPm"
      },
      "execution_count": null,
      "outputs": []
    }
  ]
}