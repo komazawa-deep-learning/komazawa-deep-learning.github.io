{
  "nbformat": 4,
  "nbformat_minor": 0,
  "metadata": {
    "colab": {
      "name": "2020-0619word2vec.ipynb",
      "provenance": [],
      "include_colab_link": true
    },
    "kernelspec": {
      "display_name": "Python 3",
      "language": "python",
      "name": "python3"
    }
  },
  "cells": [
    {
      "cell_type": "markdown",
      "metadata": {
        "id": "view-in-github",
        "colab_type": "text"
      },
      "source": [
        "<a href=\"https://colab.research.google.com/github/komazawa-deep-learning/komazawa-deep-learning.github.io/blob/master/notebooks/2020_0619word2vec.ipynb\" target=\"_parent\"><img src=\"https://colab.research.google.com/assets/colab-badge.svg\" alt=\"Open In Colab\"/></a>"
      ]
    },
    {
      "cell_type": "markdown",
      "metadata": {
        "id": "b31yw4PFDP7r"
      },
      "source": [
        "# 2020 word2vec によるアナロジー\n",
        "\n",
        "<div align='right'>\n",
        "<a href='mailto:asakawa@ieee.org'>Shin Aasakawa</a>, all rights reserved.<br>\n",
        "Date: 19/Jun/2020<br>\n",
        " MIT license\n",
        "</div>\n",
        "\n"
      ]
    },
    {
      "cell_type": "markdown",
      "metadata": {
        "id": "2AxEXTJtQ2OD"
      },
      "source": [
        "<center>\n",
        "\n",
        "<img src=\"https://komazawa-deep-learning.github.io/assets/2013Mikolov_KingQueenFig.svg\" width=\"600\"><br/>\n",
        "From Mikolov et. al (2013) Linguistic Regularities in Continuous SpaceWord Representations, Fig. 2<br/>\n",
        "</center>\n",
        "全ての概念がある多次元空間内に存在するとします。各概念はこの空間内での位置ベクトルとして表現されます。\n",
        "このとき，高等学校のときのベクトルの知識を思い出すと，$\\mathbf{a}-\\mathbf{b}$ は，ベクトル $\\mathbf{b}$ から ベクトル $\\mathbf{a}$ へ向かうベクトルとして表されます。\n",
        "すなわち女王ベクトルから王様ベクトルを引くということは，王様を原点と考えて，女王を眺めた方向を表すベクトルと考えることができます。\n",
        "このような，眺める方向を表すベクトルと，別のベクトル 女性ベクトルから男性ベクトルを引いたベクトル，\n",
        "すなわち，男性を原点として女性を眺めたベクトルを考えます。\n",
        "このベクトル 2 つ，<b><font color=\"teal\">女王 - 王様</font></b> と <b><font color=\"teal\">女 - 男</font></b> がほぼ重なることを\n",
        "比喩的に <b><font color=\"teal\">女王 - 王様 = 女 - 男</font></b> となります。この式を少し変形すれば，\n",
        "<b><font color=\"teal\">王様 - 男 + 女 = 女王</font></b> となるでしょう。これを言葉で表せば，\n",
        "<b><font color=\"red\">王様から男を引いて，女を足すと女王になる</font></b>，という演算が形式的に成り立ちます。\n",
        "\n",
        "<br/>\n",
        "<br/>\n",
        "<center>\n",
        "<img src=\"https://komazawa-deep-learning.github.io/assets/2013Mikolov_FigCountries.svg\" width=\"680\"><br/>\n",
        "Modified from Mikolv et. al (2013) Distributed Representations of Words and Phrases and their Compositionality, Fig. 2</br/>\n",
        "\n",
        "<br/><br/>\n",
        "<img src=\"https://komazawa-deep-learning.github.io/assets/2013Mikolov_Fig1.svg\" width=\"840\"><br/>\n",
        "</center>\n"
      ]
    },
    {
      "cell_type": "markdown",
      "metadata": {
        "id": "aXK5jC53WmWi"
      },
      "source": [
        "\n",
        "$$\n",
        "\\ell=\\frac{1}{T}\\sum_{t=1}^{T}\\sum_{-c\\ge j\\ge c,j\\ne0}\\log p\\left(w_{t+1}\\vert w_{t}\\right),\n",
        "$$\n",
        "\n",
        "$$\n",
        "p\\left(w_o\\vert w_i\\right)=\\frac{\\exp(v_{w_{o}}^\\top v_{w_{w_i}})}{\\sum\\exp(v_{w_{o}}^\\top v_{w_{w_i}})}\n",
        "$$"
      ]
    },
    {
      "cell_type": "code",
      "source": [
        "# 2025 年 05 月 01 日時点でのメモ\n",
        "# numpy のバージョンを強制的に 1.26.4 にダウングレードした場合，ランタイムの再起動をしないと\n",
        "# ダウングレードした numpy が実行時に反映されない。\n",
        "# このため一度このセルを実行した後に,上のメニューバー左から 5 つ目の「ランタイム」から「セッションを再起動する」\n",
        "# を選択して再度このセルを実行する必要がある。\n",
        "\n",
        "# Google Colab 上で実行しているかどうかを判定\n",
        "import IPython\n",
        "isColab = 'google.colab' in str(IPython.get_ipython())\n",
        "\n",
        "# Google colab で実行している場合必要なライブラリをインストールして word2vec ファイルをダウンロードする\n",
        "if isColab:\n",
        "    # Install PyDrive\n",
        "    !pip install pydrive2\n",
        "    #!pip install PyDrive2\n",
        "\n",
        "    #Import modules\n",
        "    from pydrive2.auth import GoogleAuth\n",
        "    #from pydrive.auth import GoogleAuth\n",
        "    from pydrive2.drive import GoogleDrive\n",
        "    from google.colab import auth\n",
        "    from oauth2client.client import GoogleCredentials\n",
        "\n",
        "    #Authenticate and create the PyDrive client\n",
        "    auth.authenticate_user()\n",
        "    gauth = GoogleAuth()\n",
        "    gauth.credentials = GoogleCredentials.get_application_default()\n",
        "    drive = GoogleDrive(gauth)\n",
        "\n",
        "    #Get the Shareable link\n",
        "    # 2017Jul_jawiki-wakati_neologd_hid200_win20_neg20_cbow.bin.gz: 1Rp3HbDkbpzMg5ehq1ARwCATX8iZAxTgj\n",
        "    # 2017Jul_jawiki-wakati_neologd_hid200_win20_neg20_sgns.bin.gz: 19BKVOBNHESt1K8725UTM9J3OpqK7YlVb\n",
        "    downloaded = drive.CreateFile({'id':\"1Rp3HbDkbpzMg5ehq1ARwCATX8iZAxTgj\"})\n",
        "    downloaded.GetContentFile('2017Jul_jawiki-wakati_neologd_hid200_win20_neg20_cbow.bin.gz')\n",
        "\n",
        "    # 2021_05jawiki_hid200_win20_neg20_sgns.bin.gz: 1JTkU5SUBU2GkURCYeHkAWYs_Zlbqob0s\n",
        "    # 2021_05jawiki_hid200_win20_neg20_cbow.bin.gz: 1VPL2Mr9JgWHik9HjRmcADoxXIdrQ3ds7\n",
        "    # 2021_05jawiki_hid128_win10_neg10_sgns.bin.gz: 1OWmFOVRC6amCxsomcRwdA6ILAA5s4y4M\n",
        "    # 2021_05jawiki_hid128_win10_neg10_cbow.bin.gz: 1B9HGhLZOja4Xku5c_d-kMhCXn1LBZgDb\n",
        "    # 上記は cbow で訓練済ファイルをダウンロードしています。\n",
        "    # skip gram モデルで訓練済モデルに変更する場合には，上記情報に従って適宜書き換えてください。\n",
        "\n",
        "    !pip uninstall numpy thinc spacy --yes\n",
        "    !pip install --upgrade numpy==1.26.4 --force-reinstall\n",
        "    !pip install --upgrade gensim==4.3.3\n",
        "    #!pip install --upgrade numpy==1.26.4 gensim==4.3.3 --force-reinstall\n",
        "\n",
        "    import numpy as np\n",
        "    print(f'np.__version__:{np.__version__}')\n",
        "\n",
        "    import gensim\n",
        "    print(f'gensim.__version__:{gensim.__version__}')"
      ],
      "metadata": {
        "id": "mqBMeO0v4FhX"
      },
      "execution_count": null,
      "outputs": []
    },
    {
      "cell_type": "code",
      "metadata": {
        "id": "5NOJVZZMC0TJ"
      },
      "source": [
        "# # -*- coding: utf-8 -*-\n",
        "# from six.moves.urllib import request\n",
        "\n",
        "# import numpy as np\n",
        "# import os\n",
        "# import sys\n",
        "# import gensim"
      ],
      "execution_count": null,
      "outputs": []
    },
    {
      "cell_type": "code",
      "metadata": {
        "id": "f4JI08HKVC_W"
      },
      "source": [
        "# !wget https://www.cis.twcu.ac.jp/~asakawa/2017jpa/2017Jul_jawiki-wakati_neologd_hid200_win20_neg20_cbow.bin.gz --no-check-certificate\n",
        "# #!wget https://www.cis.twcu.ac.jp/~asakawa/2017jpa/2017Jul_jawiki-wakati_neologd_hid200_win20_neg20_sgns.bin.gz --no-check-certificate\n",
        "# #!wget https://www.cis.twcu.ac.jp/~asakawa/2017jpa/2017Jul_jawiki-wakati_neologd_hid300_win20_neg20_sgns.bin.gz --no-check-certificate\n",
        "# #!wget https://www.cis.twcu.ac.jp/~asakawa/2017jpa/2017Jul_jawiki-wakati_neologd_hid200_win20_neg20_cbow.bin.g --no-check-certificate"
      ],
      "execution_count": null,
      "outputs": []
    },
    {
      "cell_type": "code",
      "metadata": {
        "id": "Yqfd5fBcC0Tw"
      },
      "source": [
        "# 上セルでダウンロードした訓練済 word2vec ファイルを読み込む\n",
        "word2vec_file='2017Jul_jawiki-wakati_neologd_hid200_win20_neg20_cbow.bin.gz'\n",
        "model = gensim.models.KeyedVectors.load_word2vec_format(word2vec_file,\n",
        "                                                        encoding='utf-8',\n",
        "                                                        unicode_errors='replace',\n",
        "                                                        binary=True)"
      ],
      "execution_count": 2,
      "outputs": []
    },
    {
      "cell_type": "code",
      "metadata": {
        "id": "MLgAKPceC0T2"
      },
      "source": [
        "model.most_similar(positive=['woman', 'king'], negative=['man'], topn=5)"
      ],
      "execution_count": null,
      "outputs": []
    },
    {
      "cell_type": "code",
      "metadata": {
        "id": "dORxdWn4C0T7"
      },
      "source": [
        "model.most_similar(positive=['王','女'], negative=['男'], topn=10)"
      ],
      "execution_count": null,
      "outputs": []
    },
    {
      "cell_type": "code",
      "metadata": {
        "id": "6-43g9qSC0T_"
      },
      "source": [
        "# model.most_similar(positive=['日本心理学会'], negative=['心理学'], topn=10)\n",
        "# model.most_similar(positive=['心理学'], negative=['科学'], topn=10)\n",
        "model.most_similar(positive=['心理学'], negative=['実験'], topn=10)"
      ],
      "execution_count": null,
      "outputs": []
    },
    {
      "cell_type": "code",
      "metadata": {
        "id": "ZbsVQ2ZaC0UC"
      },
      "source": [
        "# model.most_similar(positive=['言語','実験'], topn=10)\n",
        "model.most_similar(positive=['言語学','心理学'], topn=10)"
      ],
      "execution_count": null,
      "outputs": []
    },
    {
      "cell_type": "code",
      "metadata": {
        "id": "JwDbFhUmC0UE"
      },
      "source": [
        "# model.most_similar(positive=['聴覚','認知科学'], topn=5)\n",
        "# model.most_similar(positive=['視覚','認知科学'], topn=5)\n",
        "# model.most_similar(positive=['視覚','認知心理学'], topn=5)\n",
        "model.most_similar(positive=['言語','思考'], topn=5)"
      ],
      "execution_count": null,
      "outputs": []
    },
    {
      "cell_type": "code",
      "metadata": {
        "id": "e1jHd_H1C0UH"
      },
      "source": [
        "model.most_similar(positive=['ユニクロ','錦織圭'], negative=['テニス'], topn=10)"
      ],
      "execution_count": null,
      "outputs": []
    },
    {
      "cell_type": "code",
      "metadata": {
        "id": "TDEXEKtHC0UK"
      },
      "source": [
        "model.most_similar(positive=['ジャイアンツ','アメリカ'], negative=['日本'], topn=10)"
      ],
      "execution_count": null,
      "outputs": []
    },
    {
      "cell_type": "code",
      "metadata": {
        "id": "3quDlVwpC0UN"
      },
      "source": [
        "# model.most_similar(positive=['ユニクロ'], negative=['アパレル'], topn=10)\n",
        "# model.most_similar(positive=['ユニクロ','アメリカ'], negative=['日本'], topn=10)\n",
        "model.most_similar(positive=['ユニクロ','ソフトバンク'], negative=['アパレル'], topn=10)"
      ],
      "execution_count": null,
      "outputs": []
    },
    {
      "cell_type": "code",
      "metadata": {
        "id": "KCPDGV0PC0UR"
      },
      "source": [
        "# model.most_similar(positive=['1','10'], negative=['+'], topn=5)\n",
        "# model.most_similar(positive=['2','1'], negative=['+'], topn=5)\n",
        "model.most_similar(positive=['2','1','-'], topn=5)"
      ],
      "execution_count": null,
      "outputs": []
    },
    {
      "cell_type": "code",
      "metadata": {
        "id": "1c308SFDC0UU"
      },
      "source": [
        "model.most_similar(positive=['NTT', '中国'], topn=10)"
      ],
      "execution_count": null,
      "outputs": []
    },
    {
      "cell_type": "code",
      "metadata": {
        "id": "0slKlslIC0UW"
      },
      "source": [
        "model.most_similar(positive=['東京', '皇居'], topn=10)\n",
        "model.most_similar(positive=['ユニクロ', '楽天'], negative=['IT企業'], topn=10)\n",
        "model.most_similar(positive=['ユニクロ', '無印良品'], topn=10)"
      ],
      "execution_count": null,
      "outputs": []
    },
    {
      "cell_type": "code",
      "metadata": {
        "id": "MYJmb27mC0UY"
      },
      "source": [
        "model.similarity('女性', '男性')"
      ],
      "execution_count": null,
      "outputs": []
    },
    {
      "cell_type": "code",
      "metadata": {
        "id": "YRpEWDtWC0Ua"
      },
      "source": [
        "model['computer']  # raw NumPy vector of a word"
      ],
      "execution_count": null,
      "outputs": []
    },
    {
      "cell_type": "code",
      "metadata": {
        "id": "d65m-1raC0Uc"
      },
      "source": [
        "model['コンピュータ']  # raw NumPy vector of a word"
      ],
      "execution_count": null,
      "outputs": []
    },
    {
      "cell_type": "code",
      "metadata": {
        "id": "14qdfOJ6C0Ue"
      },
      "source": [
        "model.similarity('computer', 'コンピュータ')"
      ],
      "execution_count": null,
      "outputs": []
    },
    {
      "cell_type": "code",
      "metadata": {
        "id": "2Ynaeq3mC0Uh"
      },
      "source": [
        "model.similarity('女性', '女')"
      ],
      "execution_count": null,
      "outputs": []
    },
    {
      "cell_type": "code",
      "metadata": {
        "id": "ZDT_IqOKC0Ui"
      },
      "source": [
        "model.similarity('コーヒー', '紅茶')"
      ],
      "execution_count": null,
      "outputs": []
    },
    {
      "cell_type": "code",
      "metadata": {
        "id": "4xl2jP8eC0Uk"
      },
      "source": [
        "model.similarity('ビール', '日本酒')"
      ],
      "execution_count": null,
      "outputs": []
    },
    {
      "cell_type": "code",
      "metadata": {
        "id": "Q5FiigpyC0Un"
      },
      "source": [
        "model.most_similar(positive=['Berlin', 'Germany'], negative=['Paris'], topn=1)"
      ],
      "execution_count": null,
      "outputs": []
    },
    {
      "cell_type": "code",
      "metadata": {
        "id": "Hj5ODmY5C0Uo"
      },
      "source": [
        "model.most_similar(positive=['ドイツ','フランス'], negative=['ベルリン'], topn=5)"
      ],
      "execution_count": null,
      "outputs": []
    },
    {
      "cell_type": "code",
      "metadata": {
        "id": "D0hwUP9KC0Uq"
      },
      "source": [
        "model.most_similar(positive=['京都','皇居'], negative=['東京'], topn=5)"
      ],
      "execution_count": null,
      "outputs": []
    },
    {
      "cell_type": "code",
      "metadata": {
        "id": "iMPsMhThC0Ur"
      },
      "source": [
        "model.most_similar(positive=['東京','早稲田大学'], negative=['大阪'], topn=5)"
      ],
      "execution_count": null,
      "outputs": []
    },
    {
      "cell_type": "code",
      "metadata": {
        "id": "VOha6Wm3C0Ut"
      },
      "source": [
        "model.most_similar(positive=['納豆','豆腐'], negative=['大豆'],topn=10)"
      ],
      "execution_count": null,
      "outputs": []
    },
    {
      "cell_type": "code",
      "metadata": {
        "id": "-D-SJw8QC0Uu"
      },
      "source": [
        "model.most_similar(positive=['権力', '麻薬'], topn=10)"
      ],
      "execution_count": null,
      "outputs": []
    },
    {
      "cell_type": "code",
      "metadata": {
        "id": "QFOD8pTXC0Uv"
      },
      "source": [
        "model.most_similar(positive=['治療', '修理'], topn=10)"
      ],
      "execution_count": null,
      "outputs": []
    },
    {
      "cell_type": "code",
      "metadata": {
        "id": "NMorvt0hC0Ux"
      },
      "source": [
        "model.most_similar(positive=['月', 'お盆'], topn=10)"
      ],
      "execution_count": null,
      "outputs": []
    },
    {
      "cell_type": "code",
      "metadata": {
        "id": "qHPl4VALC0Uy"
      },
      "source": [],
      "execution_count": null,
      "outputs": []
    }
  ]
}